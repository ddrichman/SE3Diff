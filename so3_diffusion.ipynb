{
 "cells": [
  {
   "cell_type": "code",
   "execution_count": 1,
   "metadata": {},
   "outputs": [],
   "source": [
    "import math\n",
    "import os\n",
    "\n",
    "import matplotlib.pyplot as plt\n",
    "import numpy as np\n",
    "import torch\n",
    "import torch.nn as nn\n",
    "import torch.nn.functional as F\n",
    "from matplotlib.axes import Axes\n",
    "from torch._prims_common import DeviceLikeType\n",
    "from torch.optim import AdamW\n",
    "from torch.optim.lr_scheduler import CosineAnnealingLR\n",
    "from tqdm.auto import tqdm, trange\n",
    "\n",
    "from bioemu.so3_sde import angle_from_rotmat, rotmat_to_rotvec, rotvec_to_rotmat\n",
    "from se3diff.finetune import compute_finetune_loss, reverse_finetune_diffusion\n",
    "from se3diff.models import DiGMixSO3SDE, ScoreNet\n",
    "from se3diff.train import (\n",
    "    compute_train_loss,\n",
    "    igso3_mixture_marginal_pdf,\n",
    "    reverse_diffusion,\n",
    ")"
   ]
  },
  {
   "cell_type": "code",
   "execution_count": 2,
   "metadata": {},
   "outputs": [
    {
     "name": "stderr",
     "output_type": "stream",
     "text": [
      "Computing igso3_expansion: 100%|██████████| 1000/1000 [00:01<00:00, 921.72it/s]\n",
      "Computing igso3_expansion: 100%|██████████| 1000/1000 [00:00<00:00, 1238.45it/s]\n",
      "Computing dlog_igso3_expansion: 100%|██████████| 1000/1000 [00:01<00:00, 567.40it/s]\n"
     ]
    }
   ],
   "source": [
    "sde = DiGMixSO3SDE()\n",
    "score_model = ScoreNet(rot_embed_dim=32, time_embed_dim=32, hidden_dim=128)\n",
    "# finetune_model = ScoreNet(rot_embed_dim=8, time_embed_dim=8, hidden_dim=32)\n",
    "finetune_model = ScoreNet(rot_embed_dim=16, time_embed_dim=16, hidden_dim=64)\n",
    "# finetune_model = ScoreNet(rot_embed_dim=32, time_embed_dim=32, hidden_dim=128)\n",
    "device = \"cuda\" if torch.cuda.is_available() else \"cpu\""
   ]
  },
  {
   "cell_type": "code",
   "execution_count": 3,
   "metadata": {},
   "outputs": [
    {
     "name": "stdout",
     "output_type": "stream",
     "text": [
      "Original model: \n",
      "tensor([[[ 1.0000e+00,  0.0000e+00,  0.0000e+00],\n",
      "         [ 0.0000e+00,  1.0000e+00,  0.0000e+00],\n",
      "         [ 0.0000e+00,  0.0000e+00,  1.0000e+00]],\n",
      "\n",
      "        [[ 0.0000e+00,  0.0000e+00,  1.0000e+00],\n",
      "         [ 0.0000e+00,  1.0000e+00,  0.0000e+00],\n",
      "         [-1.0000e+00,  0.0000e+00,  0.0000e+00]],\n",
      "\n",
      "        [[-1.0000e+00,  8.7423e-08,  0.0000e+00],\n",
      "         [-8.7423e-08, -1.0000e+00,  0.0000e+00],\n",
      "         [ 0.0000e+00,  0.0000e+00,  1.0000e+00]]])\n",
      "Fine-tuned model: \n",
      "tensor([[[ 1.0000e+00,  0.0000e+00,  0.0000e+00],\n",
      "         [ 0.0000e+00,  1.0000e+00,  0.0000e+00],\n",
      "         [ 0.0000e+00,  0.0000e+00,  1.0000e+00]],\n",
      "\n",
      "        [[ 0.0000e+00,  0.0000e+00,  1.0000e+00],\n",
      "         [ 0.0000e+00,  1.0000e+00,  0.0000e+00],\n",
      "         [-1.0000e+00,  0.0000e+00,  0.0000e+00]],\n",
      "\n",
      "        [[-1.0000e+00,  8.7423e-08,  0.0000e+00],\n",
      "         [-8.7423e-08, -1.0000e+00,  0.0000e+00],\n",
      "         [ 0.0000e+00,  0.0000e+00,  1.0000e+00]]])\n"
     ]
    }
   ],
   "source": [
    "# Original model\n",
    "mus = rotvec_to_rotmat(\n",
    "    torch.tensor([[0.0, 0.0, 0.0], [0.0, math.pi / 2, 0.0], [0.0, 0.0, math.pi]])\n",
    ")\n",
    "sigmas = torch.tensor([0.1, 0.5, 0.2])\n",
    "weights = torch.tensor([0.3, 0.1, 0.6])\n",
    "print(f\"Original model: \\n{mus}\")\n",
    "\n",
    "# Fine-tuned model\n",
    "# mus_finetune = rotvec_to_rotmat(\n",
    "#     torch.tensor([[0.0, 0.0, 0.0], [0.0, 0.0, math.pi]]) + torch.randn(2, 3) * 0.05\n",
    "# )\n",
    "# sigmas_finetune = torch.tensor([0.2, 0.1])\n",
    "# weights_finetune = torch.tensor([0.6, 0.4])\n",
    "mus_finetune = mus.clone()\n",
    "sigmas_finetune = sigmas.clone()\n",
    "weights_finetune = torch.tensor([0.4, 0.2, 0.4])\n",
    "print(f\"Fine-tuned model: \\n{mus_finetune}\")"
   ]
  },
  {
   "cell_type": "code",
   "execution_count": null,
   "metadata": {},
   "outputs": [],
   "source": [
    "def visualize_initial_settings(\n",
    "    mus: torch.Tensor,\n",
    "    sigmas: torch.Tensor,\n",
    "    weights: torch.Tensor,\n",
    "    mus_finetune: torch.Tensor,\n",
    "    sigmas_finetune: torch.Tensor,\n",
    "    weights_finetune: torch.Tensor,\n",
    ") -> None:\n",
    "    fig, ax = plt.subplots(figsize=(6, 4))\n",
    "    ax.set_title(\"Initial Settings\")\n",
    "    omega, pdf = igso3_mixture_marginal_pdf(mus, sigmas, weights)\n",
    "    omega_finetune, pdf_finetune = igso3_mixture_marginal_pdf(\n",
    "        mus_finetune, sigmas_finetune, weights_finetune\n",
    "    )\n",
    "    ax.plot(\n",
    "        omega.cpu().numpy(),\n",
    "        pdf.cpu().numpy(),\n",
    "        color=\"palegreen\",\n",
    "        lw=2,\n",
    "        label=\"Original Mixture\",\n",
    "    )\n",
    "    ax.plot(\n",
    "        omega_finetune.cpu().numpy(),\n",
    "        pdf_finetune.cpu().numpy(),\n",
    "        color=\"lightblue\",\n",
    "        lw=2,\n",
    "        label=\"Fine-tuned Mixture\",\n",
    "    )\n",
    "    ax.set_xlabel(\"Angle (rad)\")\n",
    "    ax.set_ylabel(\"Probability Density\")\n",
    "    ax.legend()\n",
    "    plt.show()\n",
    "\n",
    "\n",
    "visualize_initial_settings(\n",
    "    mus,\n",
    "    sigmas,\n",
    "    weights,\n",
    "    mus_finetune,\n",
    "    sigmas_finetune,\n",
    "    weights_finetune,\n",
    ")"
   ]
  },
  {
   "cell_type": "markdown",
   "metadata": {},
   "source": [
    "$$            \\nabla_\\mathbf{q} = \\frac{\\mathbf{q}}{|\\mathbf{q}|} \\frac{\\tfrac{\\partial}{\\partial |\\mathbf{q}|} f_{\\mathrm{IGSO(3)}}(|\\mathbf{q}|)}{f_{\\mathrm{IGSO(3)}}(|\\mathbf{q}|)}$$\n",
    "$$            \\frac{1}{\\lambda} = \\sqrt{\\frac{\\sum_\\omega \\left[\\partial_\\omega \\log f_\\mathrm{IGSO(3)}(\\omega)\\right]^2 f_\\mathrm{IGSO(3)}(\\omega)}{3 \\sum_\\omega f_\\mathrm{IGSO(3)}(\\omega)}}$$"
   ]
  },
  {
   "cell_type": "code",
   "execution_count": null,
   "metadata": {},
   "outputs": [],
   "source": [
    "def train(\n",
    "    sde: DiGMixSO3SDE,\n",
    "    score_model: nn.Module,\n",
    "    mus: torch.Tensor,\n",
    "    sigmas: torch.Tensor,\n",
    "    weights: torch.Tensor,\n",
    "    *,\n",
    "    device: DeviceLikeType | None = None,\n",
    "    epochs: int = 20,\n",
    "    batch_size: int = 4096,\n",
    "    num_steps: int = 200,\n",
    "    lr: float = 5e-3,\n",
    "    weight_decay: float = 1e-4,\n",
    "    eta_min: float = 1e-5,\n",
    "    tol: float = 1e-7,\n",
    "):\n",
    "    # instantiate SDE and score model\n",
    "    sde.to(device)\n",
    "    score_model.to(device)\n",
    "\n",
    "    # instantiate the mixture parameters\n",
    "    mus = mus.to(device)\n",
    "    sigmas = sigmas.to(device)\n",
    "    weights = weights.to(device)\n",
    "\n",
    "    optimizer = AdamW(score_model.parameters(), lr=lr, weight_decay=weight_decay)\n",
    "    scheduler = CosineAnnealingLR(optimizer, T_max=epochs, eta_min=eta_min)\n",
    "\n",
    "    for epoch in range(1, epochs + 1):\n",
    "        score_model.train()\n",
    "        epoch_loss = 0.0\n",
    "        pbar = tqdm(range(num_steps), desc=f\"Epoch {epoch}\", leave=False)\n",
    "        for _ in pbar:\n",
    "            loss = compute_train_loss(\n",
    "                sde,\n",
    "                score_model,\n",
    "                mus,\n",
    "                sigmas,\n",
    "                weights,\n",
    "                device=device,\n",
    "                batch_size=batch_size,\n",
    "                tol=tol,\n",
    "            )\n",
    "\n",
    "            optimizer.zero_grad()\n",
    "            loss.backward()\n",
    "            optimizer.step()\n",
    "\n",
    "            l = loss.detach().item()\n",
    "            epoch_loss += l\n",
    "            pbar.set_postfix(loss=f\"{l:.2f}\")\n",
    "\n",
    "        scheduler.step()\n",
    "        avg_loss = epoch_loss / num_steps\n",
    "        print(f\"Epoch {epoch}: Average training loss = {avg_loss:.4f}\")\n",
    "\n",
    "        if epoch % 10 == 0:\n",
    "            score_model.eval()\n",
    "            with torch.no_grad():\n",
    "                val_loss = compute_train_loss(\n",
    "                    sde,\n",
    "                    score_model,\n",
    "                    mus,\n",
    "                    sigmas,\n",
    "                    weights,\n",
    "                    device=device,\n",
    "                    batch_size=batch_size,\n",
    "                    tol=tol,\n",
    "                )\n",
    "            print(f\"Validation loss: {val_loss:.4f}\")\n",
    "\n",
    "\n",
    "train(\n",
    "    sde,\n",
    "    score_model,\n",
    "    mus,\n",
    "    sigmas,\n",
    "    weights,\n",
    "    device=device,\n",
    ")\n",
    "# save the model\n",
    "torch.save(score_model.state_dict(), \"score_model.pt\")\n",
    "# load the model\n",
    "score_model.load_state_dict(torch.load(\"score_model.pt\"))"
   ]
  },
  {
   "cell_type": "code",
   "execution_count": null,
   "metadata": {},
   "outputs": [],
   "source": [
    "@torch.no_grad()\n",
    "def visualize_diffusion(\n",
    "    sde: DiGMixSO3SDE,\n",
    "    score_model: nn.Module,\n",
    "    mus: torch.Tensor,\n",
    "    sigmas: torch.Tensor,\n",
    "    weights: torch.Tensor,\n",
    "    *,\n",
    "    device: DeviceLikeType | None = None,\n",
    "    batch_size: int = 65536,\n",
    "    num_steps: int = 2000,\n",
    "    t_num: int = 8,\n",
    "    l_max: int = 1000,\n",
    "    num_points: int = 1000,\n",
    "    tol: float = 1e-7,\n",
    "):\n",
    "    sde.to(device)\n",
    "    score_model.to(device).eval()\n",
    "\n",
    "    mus = mus.to(device)\n",
    "    sigmas = sigmas.to(device)\n",
    "    weights = weights.to(device)\n",
    "\n",
    "    # reverse diffusion samples\n",
    "    xs, t_vals = reverse_diffusion(\n",
    "        sde, score_model, device=device, batch_size=batch_size, num_steps=num_steps\n",
    "    )\n",
    "\n",
    "    x_0 = sde.sample_multiple_igso3(\n",
    "        mus, sigmas, weights, batch_size, device=device\n",
    "    )  # (B,3,3)\n",
    "\n",
    "    # pick checkpoints\n",
    "    idxs = np.linspace(0, num_steps, t_num, dtype=int)\n",
    "    fig, axes = plt.subplots(\n",
    "        2, int(np.ceil(t_num / 2)), figsize=(15, 6), constrained_layout=True\n",
    "    )\n",
    "    axes: np.ndarray = axes.flatten()\n",
    "\n",
    "    for i in trange(t_num, desc=\"Plotting\", leave=False):\n",
    "        # plot forward and reverse marginals\n",
    "        ax: Axes = axes[i]\n",
    "        idx = idxs[i]\n",
    "        t_val = t_vals[idx].item()\n",
    "        t = torch.full((batch_size,), t_val, device=device)\n",
    "\n",
    "        # a) true forward histogram\n",
    "        x_t = sde.sample_marginal(x_0, t)\n",
    "        true_angles = angle_from_rotmat(x_t)[0]\n",
    "        ax.hist(\n",
    "            true_angles.cpu().numpy(),\n",
    "            bins=100,\n",
    "            density=True,\n",
    "            alpha=0.8,\n",
    "            label=\"true forward\",\n",
    "            color=\"lightblue\",\n",
    "        )\n",
    "\n",
    "        # b) predicted reverse histogram\n",
    "        x_rev = xs[idx]\n",
    "        rev_angles = angle_from_rotmat(x_rev)[0]\n",
    "        ax.hist(\n",
    "            rev_angles.cpu().numpy(),\n",
    "            bins=100,\n",
    "            density=True,\n",
    "            histtype=\"step\",\n",
    "            linestyle=\"--\",\n",
    "            linewidth=1,\n",
    "            label=\"predicted reverse\",\n",
    "            color=\"orange\",\n",
    "        )\n",
    "\n",
    "        # c) theoretical forward marginal (vectorized)\n",
    "        sigma_t = torch.sqrt(sde._marginal_std(t_vals[idx]) ** 2 + sigmas**2)  # (K,)\n",
    "        omega, pdf = igso3_mixture_marginal_pdf(\n",
    "            mus,\n",
    "            sigma_t,\n",
    "            weights,\n",
    "            l_max=l_max,\n",
    "            num_points=num_points,\n",
    "            tol=tol,\n",
    "        )\n",
    "\n",
    "        ax.plot(\n",
    "            omega.cpu().numpy(),\n",
    "            pdf.cpu().numpy(),\n",
    "            color=\"pink\",\n",
    "            lw=2,\n",
    "            label=\"theoretical PDF\",\n",
    "        )\n",
    "\n",
    "        ax.set_title(f\"t = {t_val:.2f}\")\n",
    "        ax.set_xlabel(\"rotation-angle (rad)\")\n",
    "        ax.set_ylabel(\"density\")\n",
    "        ax.legend()\n",
    "\n",
    "    plt.show()\n",
    "\n",
    "\n",
    "score_model.load_state_dict(torch.load(\"score_model.pt\", map_location=device))\n",
    "visualize_diffusion(sde, score_model, mus, sigmas, weights, device=device)"
   ]
  },
  {
   "cell_type": "code",
   "execution_count": 4,
   "metadata": {},
   "outputs": [
    {
     "data": {
      "application/vnd.jupyter.widget-view+json": {
       "model_id": "86d05b9eae0a4de7acf6fad08a6ecf29",
       "version_major": 2,
       "version_minor": 0
      },
      "text/plain": [
       "Epoch 1:   0%|          | 0/2 [00:00<?, ?it/s]"
      ]
     },
     "metadata": {},
     "output_type": "display_data"
    },
    {
     "data": {
      "application/vnd.jupyter.widget-view+json": {
       "model_id": "98b195b72f5044ec84bcfa0bf66c6bd8",
       "version_major": 2,
       "version_minor": 0
      },
      "text/plain": [
       "Reverse diffusion:   0%|          | 0/200 [00:00<?, ?it/s]"
      ]
     },
     "metadata": {},
     "output_type": "display_data"
    },
    {
     "name": "stdout",
     "output_type": "stream",
     "text": [
      "loss_ev 0.055643439292907715\n",
      "loss_kl 0.007332346402108669\n"
     ]
    },
    {
     "data": {
      "application/vnd.jupyter.widget-view+json": {
       "model_id": "44952531438b488cb86334c3c6ede030",
       "version_major": 2,
       "version_minor": 0
      },
      "text/plain": [
       "Reverse diffusion:   0%|          | 0/200 [00:00<?, ?it/s]"
      ]
     },
     "metadata": {},
     "output_type": "display_data"
    },
    {
     "name": "stdout",
     "output_type": "stream",
     "text": [
      "loss_ev 0.052781842648983\n",
      "loss_kl 0.00762151088565588\n",
      "Epoch 1: Average training loss = 0.0557\n"
     ]
    },
    {
     "data": {
      "application/vnd.jupyter.widget-view+json": {
       "model_id": "7864c25e76384d99b2aef4be14acaeb0",
       "version_major": 2,
       "version_minor": 0
      },
      "text/plain": [
       "Epoch 2:   0%|          | 0/2 [00:00<?, ?it/s]"
      ]
     },
     "metadata": {},
     "output_type": "display_data"
    },
    {
     "data": {
      "application/vnd.jupyter.widget-view+json": {
       "model_id": "c15aacf03b0c4fc69c2b47d47844c98a",
       "version_major": 2,
       "version_minor": 0
      },
      "text/plain": [
       "Reverse diffusion:   0%|          | 0/200 [00:00<?, ?it/s]"
      ]
     },
     "metadata": {},
     "output_type": "display_data"
    },
    {
     "name": "stdout",
     "output_type": "stream",
     "text": [
      "loss_ev 0.049419600516557693\n",
      "loss_kl 0.01812579482793808\n"
     ]
    },
    {
     "data": {
      "application/vnd.jupyter.widget-view+json": {
       "model_id": "34c9164dad8246a39026174bb6ed8527",
       "version_major": 2,
       "version_minor": 0
      },
      "text/plain": [
       "Reverse diffusion:   0%|          | 0/200 [00:00<?, ?it/s]"
      ]
     },
     "metadata": {},
     "output_type": "display_data"
    },
    {
     "name": "stdout",
     "output_type": "stream",
     "text": [
      "loss_ev 0.04329903796315193\n",
      "loss_kl 0.03380364552140236\n",
      "Epoch 2: Average training loss = 0.0516\n"
     ]
    },
    {
     "data": {
      "application/vnd.jupyter.widget-view+json": {
       "model_id": "a6cccc4d021442e1928823f02f2fd228",
       "version_major": 2,
       "version_minor": 0
      },
      "text/plain": [
       "Epoch 3:   0%|          | 0/2 [00:00<?, ?it/s]"
      ]
     },
     "metadata": {},
     "output_type": "display_data"
    },
    {
     "data": {
      "application/vnd.jupyter.widget-view+json": {
       "model_id": "cc6c32ba735047a0a27e18c3564f1cf8",
       "version_major": 2,
       "version_minor": 0
      },
      "text/plain": [
       "Reverse diffusion:   0%|          | 0/200 [00:00<?, ?it/s]"
      ]
     },
     "metadata": {},
     "output_type": "display_data"
    },
    {
     "name": "stdout",
     "output_type": "stream",
     "text": [
      "loss_ev 0.034566037356853485\n",
      "loss_kl 0.04925939440727234\n"
     ]
    },
    {
     "data": {
      "application/vnd.jupyter.widget-view+json": {
       "model_id": "3071200bb590482c8888f0a57eeb6842",
       "version_major": 2,
       "version_minor": 0
      },
      "text/plain": [
       "Reverse diffusion:   0%|          | 0/200 [00:00<?, ?it/s]"
      ]
     },
     "metadata": {},
     "output_type": "display_data"
    },
    {
     "name": "stdout",
     "output_type": "stream",
     "text": [
      "loss_ev 0.034434471279382706\n",
      "loss_kl 0.06317685544490814\n",
      "Epoch 3: Average training loss = 0.0457\n"
     ]
    },
    {
     "data": {
      "application/vnd.jupyter.widget-view+json": {
       "model_id": "ac7f9d36c88a496fbe88e23bf21269cd",
       "version_major": 2,
       "version_minor": 0
      },
      "text/plain": [
       "Epoch 4:   0%|          | 0/2 [00:00<?, ?it/s]"
      ]
     },
     "metadata": {},
     "output_type": "display_data"
    },
    {
     "data": {
      "application/vnd.jupyter.widget-view+json": {
       "model_id": "f72aa46e4a69460380273e892fd05c75",
       "version_major": 2,
       "version_minor": 0
      },
      "text/plain": [
       "Reverse diffusion:   0%|          | 0/200 [00:00<?, ?it/s]"
      ]
     },
     "metadata": {},
     "output_type": "display_data"
    },
    {
     "name": "stdout",
     "output_type": "stream",
     "text": [
      "loss_ev 0.029511168599128723\n",
      "loss_kl 0.06644249707460403\n"
     ]
    },
    {
     "data": {
      "application/vnd.jupyter.widget-view+json": {
       "model_id": "19fed3c4087944148641603e9515554f",
       "version_major": 2,
       "version_minor": 0
      },
      "text/plain": [
       "Reverse diffusion:   0%|          | 0/200 [00:00<?, ?it/s]"
      ]
     },
     "metadata": {},
     "output_type": "display_data"
    },
    {
     "name": "stdout",
     "output_type": "stream",
     "text": [
      "loss_ev 0.025117024779319763\n",
      "loss_kl 0.06642709672451019\n",
      "Epoch 4: Average training loss = 0.0406\n"
     ]
    },
    {
     "data": {
      "application/vnd.jupyter.widget-view+json": {
       "model_id": "fdbcb3c031c94c77a65a7c08f6201989",
       "version_major": 2,
       "version_minor": 0
      },
      "text/plain": [
       "Epoch 5:   0%|          | 0/2 [00:00<?, ?it/s]"
      ]
     },
     "metadata": {},
     "output_type": "display_data"
    },
    {
     "data": {
      "application/vnd.jupyter.widget-view+json": {
       "model_id": "00474a60db9740408d4ca5857362868c",
       "version_major": 2,
       "version_minor": 0
      },
      "text/plain": [
       "Reverse diffusion:   0%|          | 0/200 [00:00<?, ?it/s]"
      ]
     },
     "metadata": {},
     "output_type": "display_data"
    },
    {
     "name": "stdout",
     "output_type": "stream",
     "text": [
      "loss_ev 0.03028097003698349\n",
      "loss_kl 0.05549176037311554\n"
     ]
    },
    {
     "data": {
      "application/vnd.jupyter.widget-view+json": {
       "model_id": "4f65fe47bf9e452f8c3b74fd5b336f07",
       "version_major": 2,
       "version_minor": 0
      },
      "text/plain": [
       "Reverse diffusion:   0%|          | 0/200 [00:00<?, ?it/s]"
      ]
     },
     "metadata": {},
     "output_type": "display_data"
    },
    {
     "name": "stdout",
     "output_type": "stream",
     "text": [
      "loss_ev 0.03609515726566315\n",
      "loss_kl 0.04673813655972481\n",
      "Epoch 5: Average training loss = 0.0434\n"
     ]
    },
    {
     "data": {
      "application/vnd.jupyter.widget-view+json": {
       "model_id": "18b2ace047c84eae9fd1723f4240d2be",
       "version_major": 2,
       "version_minor": 0
      },
      "text/plain": [
       "Epoch 6:   0%|          | 0/2 [00:00<?, ?it/s]"
      ]
     },
     "metadata": {},
     "output_type": "display_data"
    },
    {
     "data": {
      "application/vnd.jupyter.widget-view+json": {
       "model_id": "c3abd90ffc754e529e8ef610e4ed0326",
       "version_major": 2,
       "version_minor": 0
      },
      "text/plain": [
       "Reverse diffusion:   0%|          | 0/200 [00:00<?, ?it/s]"
      ]
     },
     "metadata": {},
     "output_type": "display_data"
    },
    {
     "name": "stdout",
     "output_type": "stream",
     "text": [
      "loss_ev 0.027935504913330078\n",
      "loss_kl 0.0429069884121418\n"
     ]
    },
    {
     "data": {
      "application/vnd.jupyter.widget-view+json": {
       "model_id": "c4bc6f0bb0f244618465489012a9890a",
       "version_major": 2,
       "version_minor": 0
      },
      "text/plain": [
       "Reverse diffusion:   0%|          | 0/200 [00:00<?, ?it/s]"
      ]
     },
     "metadata": {},
     "output_type": "display_data"
    },
    {
     "name": "stdout",
     "output_type": "stream",
     "text": [
      "loss_ev 0.027264393866062164\n",
      "loss_kl 0.04183388501405716\n",
      "Epoch 6: Average training loss = 0.0361\n"
     ]
    },
    {
     "data": {
      "application/vnd.jupyter.widget-view+json": {
       "model_id": "4a6ecf35d09b4d3cb77c7c4b86d3d25a",
       "version_major": 2,
       "version_minor": 0
      },
      "text/plain": [
       "Epoch 7:   0%|          | 0/2 [00:00<?, ?it/s]"
      ]
     },
     "metadata": {},
     "output_type": "display_data"
    },
    {
     "data": {
      "application/vnd.jupyter.widget-view+json": {
       "model_id": "7d9bf45e681e4a0ea1514808bb49203c",
       "version_major": 2,
       "version_minor": 0
      },
      "text/plain": [
       "Reverse diffusion:   0%|          | 0/200 [00:00<?, ?it/s]"
      ]
     },
     "metadata": {},
     "output_type": "display_data"
    },
    {
     "name": "stdout",
     "output_type": "stream",
     "text": [
      "loss_ev 0.030660629272460938\n",
      "loss_kl 0.04164482653141022\n"
     ]
    },
    {
     "data": {
      "application/vnd.jupyter.widget-view+json": {
       "model_id": "61e836442dae4bb9b8e263799253ef6e",
       "version_major": 2,
       "version_minor": 0
      },
      "text/plain": [
       "Reverse diffusion:   0%|          | 0/200 [00:00<?, ?it/s]"
      ]
     },
     "metadata": {},
     "output_type": "display_data"
    },
    {
     "name": "stdout",
     "output_type": "stream",
     "text": [
      "loss_ev 0.023811139166355133\n",
      "loss_kl 0.04689251631498337\n",
      "Epoch 7: Average training loss = 0.0361\n"
     ]
    },
    {
     "data": {
      "application/vnd.jupyter.widget-view+json": {
       "model_id": "19fb294384ba45c4b347d5f3acf9ac9b",
       "version_major": 2,
       "version_minor": 0
      },
      "text/plain": [
       "Epoch 8:   0%|          | 0/2 [00:00<?, ?it/s]"
      ]
     },
     "metadata": {},
     "output_type": "display_data"
    },
    {
     "data": {
      "application/vnd.jupyter.widget-view+json": {
       "model_id": "3325cc2e80474210b982bd8bcda8fd32",
       "version_major": 2,
       "version_minor": 0
      },
      "text/plain": [
       "Reverse diffusion:   0%|          | 0/200 [00:00<?, ?it/s]"
      ]
     },
     "metadata": {},
     "output_type": "display_data"
    },
    {
     "name": "stdout",
     "output_type": "stream",
     "text": [
      "loss_ev 0.03299558162689209\n",
      "loss_kl 0.05661017447710037\n"
     ]
    },
    {
     "data": {
      "application/vnd.jupyter.widget-view+json": {
       "model_id": "0adb44d070174ecda85a68f56a9ca2cd",
       "version_major": 2,
       "version_minor": 0
      },
      "text/plain": [
       "Reverse diffusion:   0%|          | 0/200 [00:00<?, ?it/s]"
      ]
     },
     "metadata": {},
     "output_type": "display_data"
    },
    {
     "name": "stdout",
     "output_type": "stream",
     "text": [
      "loss_ev 0.025040768086910248\n",
      "loss_kl 0.06402014940977097\n",
      "Epoch 8: Average training loss = 0.0411\n"
     ]
    },
    {
     "data": {
      "application/vnd.jupyter.widget-view+json": {
       "model_id": "25e2a3d70bd7434185249458fc85faf2",
       "version_major": 2,
       "version_minor": 0
      },
      "text/plain": [
       "Epoch 9:   0%|          | 0/2 [00:00<?, ?it/s]"
      ]
     },
     "metadata": {},
     "output_type": "display_data"
    },
    {
     "data": {
      "application/vnd.jupyter.widget-view+json": {
       "model_id": "60b26cf94c344b0da239bb82bed5154c",
       "version_major": 2,
       "version_minor": 0
      },
      "text/plain": [
       "Reverse diffusion:   0%|          | 0/200 [00:00<?, ?it/s]"
      ]
     },
     "metadata": {},
     "output_type": "display_data"
    },
    {
     "name": "stdout",
     "output_type": "stream",
     "text": [
      "loss_ev 0.016418106853961945\n",
      "loss_kl 0.06148335710167885\n"
     ]
    },
    {
     "data": {
      "application/vnd.jupyter.widget-view+json": {
       "model_id": "2ddacaeb8265480897ac7a16be552765",
       "version_major": 2,
       "version_minor": 0
      },
      "text/plain": [
       "Reverse diffusion:   0%|          | 0/200 [00:00<?, ?it/s]"
      ]
     },
     "metadata": {},
     "output_type": "display_data"
    },
    {
     "name": "stdout",
     "output_type": "stream",
     "text": [
      "loss_ev 0.026119977235794067\n",
      "loss_kl 0.05751442536711693\n",
      "Epoch 9: Average training loss = 0.0332\n"
     ]
    },
    {
     "data": {
      "application/vnd.jupyter.widget-view+json": {
       "model_id": "f8c26a58c7824e6fa7571435e18e075a",
       "version_major": 2,
       "version_minor": 0
      },
      "text/plain": [
       "Epoch 10:   0%|          | 0/2 [00:00<?, ?it/s]"
      ]
     },
     "metadata": {},
     "output_type": "display_data"
    },
    {
     "data": {
      "application/vnd.jupyter.widget-view+json": {
       "model_id": "06c62ff987eb49e0b6ba8e9d2c7b1da4",
       "version_major": 2,
       "version_minor": 0
      },
      "text/plain": [
       "Reverse diffusion:   0%|          | 0/200 [00:00<?, ?it/s]"
      ]
     },
     "metadata": {},
     "output_type": "display_data"
    },
    {
     "name": "stdout",
     "output_type": "stream",
     "text": [
      "loss_ev 0.029075630009174347\n",
      "loss_kl 0.05897713080048561\n"
     ]
    },
    {
     "data": {
      "application/vnd.jupyter.widget-view+json": {
       "model_id": "c2ad66a3548d41748377107a8e1bd6e8",
       "version_major": 2,
       "version_minor": 0
      },
      "text/plain": [
       "Reverse diffusion:   0%|          | 0/200 [00:00<?, ?it/s]"
      ]
     },
     "metadata": {},
     "output_type": "display_data"
    },
    {
     "name": "stdout",
     "output_type": "stream",
     "text": [
      "loss_ev 0.021081246435642242\n",
      "loss_kl 0.060752272605895996\n",
      "Epoch 10: Average training loss = 0.0371\n"
     ]
    },
    {
     "data": {
      "application/vnd.jupyter.widget-view+json": {
       "model_id": "d22b55a0d5a44f638aee17108bb97d89",
       "version_major": 2,
       "version_minor": 0
      },
      "text/plain": [
       "Reverse diffusion:   0%|          | 0/200 [00:00<?, ?it/s]"
      ]
     },
     "metadata": {},
     "output_type": "display_data"
    },
    {
     "name": "stdout",
     "output_type": "stream",
     "text": [
      "loss_ev 0.023859243839979172\n",
      "loss_kl 0.0597289614379406\n",
      "Validation loss: 0.0358\n"
     ]
    },
    {
     "data": {
      "application/vnd.jupyter.widget-view+json": {
       "model_id": "4f4a5b9558aa40659e74758d51ab3304",
       "version_major": 2,
       "version_minor": 0
      },
      "text/plain": [
       "Epoch 11:   0%|          | 0/2 [00:00<?, ?it/s]"
      ]
     },
     "metadata": {},
     "output_type": "display_data"
    },
    {
     "data": {
      "application/vnd.jupyter.widget-view+json": {
       "model_id": "c16157d2b4b74c308ff2565233fde1ca",
       "version_major": 2,
       "version_minor": 0
      },
      "text/plain": [
       "Reverse diffusion:   0%|          | 0/200 [00:00<?, ?it/s]"
      ]
     },
     "metadata": {},
     "output_type": "display_data"
    },
    {
     "name": "stdout",
     "output_type": "stream",
     "text": [
      "loss_ev 0.020717518404126167\n",
      "loss_kl 0.0599500872194767\n"
     ]
    },
    {
     "data": {
      "application/vnd.jupyter.widget-view+json": {
       "model_id": "3f3111efd70249cc821d252185d10e0f",
       "version_major": 2,
       "version_minor": 0
      },
      "text/plain": [
       "Reverse diffusion:   0%|          | 0/200 [00:00<?, ?it/s]"
      ]
     },
     "metadata": {},
     "output_type": "display_data"
    },
    {
     "name": "stdout",
     "output_type": "stream",
     "text": [
      "loss_ev 0.018082857131958008\n",
      "loss_kl 0.0595972016453743\n",
      "Epoch 11: Average training loss = 0.0314\n"
     ]
    },
    {
     "data": {
      "application/vnd.jupyter.widget-view+json": {
       "model_id": "71e27ed8e5f94901b984e73a19899323",
       "version_major": 2,
       "version_minor": 0
      },
      "text/plain": [
       "Epoch 12:   0%|          | 0/2 [00:00<?, ?it/s]"
      ]
     },
     "metadata": {},
     "output_type": "display_data"
    },
    {
     "data": {
      "application/vnd.jupyter.widget-view+json": {
       "model_id": "faecf0a78fd74a13ac72010ce573e8d7",
       "version_major": 2,
       "version_minor": 0
      },
      "text/plain": [
       "Reverse diffusion:   0%|          | 0/200 [00:00<?, ?it/s]"
      ]
     },
     "metadata": {},
     "output_type": "display_data"
    },
    {
     "name": "stdout",
     "output_type": "stream",
     "text": [
      "loss_ev 0.021879050880670547\n",
      "loss_kl 0.05877593904733658\n"
     ]
    },
    {
     "data": {
      "application/vnd.jupyter.widget-view+json": {
       "model_id": "3acb379446cf439dac352ab05154308c",
       "version_major": 2,
       "version_minor": 0
      },
      "text/plain": [
       "Reverse diffusion:   0%|          | 0/200 [00:00<?, ?it/s]"
      ]
     },
     "metadata": {},
     "output_type": "display_data"
    },
    {
     "name": "stdout",
     "output_type": "stream",
     "text": [
      "loss_ev 0.022875946015119553\n",
      "loss_kl 0.058222636580467224\n",
      "Epoch 12: Average training loss = 0.0341\n"
     ]
    },
    {
     "data": {
      "application/vnd.jupyter.widget-view+json": {
       "model_id": "35fdbae55e5741a682e0bd660bdd665e",
       "version_major": 2,
       "version_minor": 0
      },
      "text/plain": [
       "Epoch 13:   0%|          | 0/2 [00:00<?, ?it/s]"
      ]
     },
     "metadata": {},
     "output_type": "display_data"
    },
    {
     "data": {
      "application/vnd.jupyter.widget-view+json": {
       "model_id": "289670a035c4468988734855d71df5b2",
       "version_major": 2,
       "version_minor": 0
      },
      "text/plain": [
       "Reverse diffusion:   0%|          | 0/200 [00:00<?, ?it/s]"
      ]
     },
     "metadata": {},
     "output_type": "display_data"
    },
    {
     "name": "stdout",
     "output_type": "stream",
     "text": [
      "loss_ev 0.023243092000484467\n",
      "loss_kl 0.05846446380019188\n"
     ]
    },
    {
     "data": {
      "application/vnd.jupyter.widget-view+json": {
       "model_id": "2a0d603cd2534bd0b94cf1eb546787f3",
       "version_major": 2,
       "version_minor": 0
      },
      "text/plain": [
       "Reverse diffusion:   0%|          | 0/200 [00:00<?, ?it/s]"
      ]
     },
     "metadata": {},
     "output_type": "display_data"
    },
    {
     "name": "stdout",
     "output_type": "stream",
     "text": [
      "loss_ev 0.01955598033964634\n",
      "loss_kl 0.058754898607730865\n",
      "Epoch 13: Average training loss = 0.0331\n"
     ]
    },
    {
     "data": {
      "application/vnd.jupyter.widget-view+json": {
       "model_id": "16729c7a21c4416197c7f7943c21c3a9",
       "version_major": 2,
       "version_minor": 0
      },
      "text/plain": [
       "Epoch 14:   0%|          | 0/2 [00:00<?, ?it/s]"
      ]
     },
     "metadata": {},
     "output_type": "display_data"
    },
    {
     "data": {
      "application/vnd.jupyter.widget-view+json": {
       "model_id": "b45ea99691604376871a7d88239c7673",
       "version_major": 2,
       "version_minor": 0
      },
      "text/plain": [
       "Reverse diffusion:   0%|          | 0/200 [00:00<?, ?it/s]"
      ]
     },
     "metadata": {},
     "output_type": "display_data"
    },
    {
     "name": "stdout",
     "output_type": "stream",
     "text": [
      "loss_ev 0.018640337511897087\n",
      "loss_kl 0.05898696556687355\n"
     ]
    },
    {
     "data": {
      "application/vnd.jupyter.widget-view+json": {
       "model_id": "df238b0604674c11b147679b827bbaf9",
       "version_major": 2,
       "version_minor": 0
      },
      "text/plain": [
       "Reverse diffusion:   0%|          | 0/200 [00:00<?, ?it/s]"
      ]
     },
     "metadata": {},
     "output_type": "display_data"
    },
    {
     "name": "stdout",
     "output_type": "stream",
     "text": [
      "loss_ev 0.01597486436367035\n",
      "loss_kl 0.06087476387619972\n",
      "Epoch 14: Average training loss = 0.0293\n"
     ]
    },
    {
     "data": {
      "application/vnd.jupyter.widget-view+json": {
       "model_id": "cfd720a922f443e693498ef52b39ff7e",
       "version_major": 2,
       "version_minor": 0
      },
      "text/plain": [
       "Epoch 15:   0%|          | 0/2 [00:00<?, ?it/s]"
      ]
     },
     "metadata": {},
     "output_type": "display_data"
    },
    {
     "data": {
      "application/vnd.jupyter.widget-view+json": {
       "model_id": "897e35db54044197818e3fe6d3247713",
       "version_major": 2,
       "version_minor": 0
      },
      "text/plain": [
       "Reverse diffusion:   0%|          | 0/200 [00:00<?, ?it/s]"
      ]
     },
     "metadata": {},
     "output_type": "display_data"
    },
    {
     "name": "stdout",
     "output_type": "stream",
     "text": [
      "loss_ev 0.020137932151556015\n",
      "loss_kl 0.059743814170360565\n"
     ]
    },
    {
     "data": {
      "application/vnd.jupyter.widget-view+json": {
       "model_id": "0204b18baa0f40a8b545d2a3742a290e",
       "version_major": 2,
       "version_minor": 0
      },
      "text/plain": [
       "Reverse diffusion:   0%|          | 0/200 [00:00<?, ?it/s]"
      ]
     },
     "metadata": {},
     "output_type": "display_data"
    },
    {
     "name": "stdout",
     "output_type": "stream",
     "text": [
      "loss_ev 0.021577371284365654\n",
      "loss_kl 0.06162877380847931\n",
      "Epoch 15: Average training loss = 0.0330\n"
     ]
    },
    {
     "data": {
      "application/vnd.jupyter.widget-view+json": {
       "model_id": "64e3927ffc2d4e9caf4316471ebee046",
       "version_major": 2,
       "version_minor": 0
      },
      "text/plain": [
       "Epoch 16:   0%|          | 0/2 [00:00<?, ?it/s]"
      ]
     },
     "metadata": {},
     "output_type": "display_data"
    },
    {
     "data": {
      "application/vnd.jupyter.widget-view+json": {
       "model_id": "ca26d19c256244f4a34e27bf1721b4fc",
       "version_major": 2,
       "version_minor": 0
      },
      "text/plain": [
       "Reverse diffusion:   0%|          | 0/200 [00:00<?, ?it/s]"
      ]
     },
     "metadata": {},
     "output_type": "display_data"
    },
    {
     "name": "stdout",
     "output_type": "stream",
     "text": [
      "loss_ev 0.020305393263697624\n",
      "loss_kl 0.06171659007668495\n"
     ]
    },
    {
     "data": {
      "application/vnd.jupyter.widget-view+json": {
       "model_id": "8a6d3bf9b8e4404d870a2ba9069dd56b",
       "version_major": 2,
       "version_minor": 0
      },
      "text/plain": [
       "Reverse diffusion:   0%|          | 0/200 [00:00<?, ?it/s]"
      ]
     },
     "metadata": {},
     "output_type": "display_data"
    },
    {
     "name": "stdout",
     "output_type": "stream",
     "text": [
      "loss_ev 0.02168193832039833\n",
      "loss_kl 0.06253830343484879\n",
      "Epoch 16: Average training loss = 0.0334\n"
     ]
    },
    {
     "data": {
      "application/vnd.jupyter.widget-view+json": {
       "model_id": "ea916b184c524a81bbc71e01016c0815",
       "version_major": 2,
       "version_minor": 0
      },
      "text/plain": [
       "Epoch 17:   0%|          | 0/2 [00:00<?, ?it/s]"
      ]
     },
     "metadata": {},
     "output_type": "display_data"
    },
    {
     "data": {
      "application/vnd.jupyter.widget-view+json": {
       "model_id": "8569e8556990478c816b0c0c1bdc1ad7",
       "version_major": 2,
       "version_minor": 0
      },
      "text/plain": [
       "Reverse diffusion:   0%|          | 0/200 [00:00<?, ?it/s]"
      ]
     },
     "metadata": {},
     "output_type": "display_data"
    },
    {
     "name": "stdout",
     "output_type": "stream",
     "text": [
      "loss_ev 0.018763119354844093\n",
      "loss_kl 0.06343235820531845\n"
     ]
    },
    {
     "data": {
      "application/vnd.jupyter.widget-view+json": {
       "model_id": "7f0db9f8587d4570bdd1841ac490c226",
       "version_major": 2,
       "version_minor": 0
      },
      "text/plain": [
       "Reverse diffusion:   0%|          | 0/200 [00:00<?, ?it/s]"
      ]
     },
     "metadata": {},
     "output_type": "display_data"
    },
    {
     "name": "stdout",
     "output_type": "stream",
     "text": [
      "loss_ev 0.014466095715761185\n",
      "loss_kl 0.06386129558086395\n",
      "Epoch 17: Average training loss = 0.0293\n"
     ]
    },
    {
     "data": {
      "application/vnd.jupyter.widget-view+json": {
       "model_id": "5352f7f54a684678b3b73875adc34ff1",
       "version_major": 2,
       "version_minor": 0
      },
      "text/plain": [
       "Epoch 18:   0%|          | 0/2 [00:00<?, ?it/s]"
      ]
     },
     "metadata": {},
     "output_type": "display_data"
    },
    {
     "data": {
      "application/vnd.jupyter.widget-view+json": {
       "model_id": "f1b9a66a4bfa48d78f34a8456a3d8fc3",
       "version_major": 2,
       "version_minor": 0
      },
      "text/plain": [
       "Reverse diffusion:   0%|          | 0/200 [00:00<?, ?it/s]"
      ]
     },
     "metadata": {},
     "output_type": "display_data"
    },
    {
     "name": "stdout",
     "output_type": "stream",
     "text": [
      "loss_ev 0.01754741556942463\n",
      "loss_kl 0.06313818693161011\n"
     ]
    },
    {
     "data": {
      "application/vnd.jupyter.widget-view+json": {
       "model_id": "bac342618fc941e2b8b6241bec7e0969",
       "version_major": 2,
       "version_minor": 0
      },
      "text/plain": [
       "Reverse diffusion:   0%|          | 0/200 [00:00<?, ?it/s]"
      ]
     },
     "metadata": {},
     "output_type": "display_data"
    },
    {
     "name": "stdout",
     "output_type": "stream",
     "text": [
      "loss_ev 0.01783115789294243\n",
      "loss_kl 0.06417855620384216\n",
      "Epoch 18: Average training loss = 0.0304\n"
     ]
    },
    {
     "data": {
      "application/vnd.jupyter.widget-view+json": {
       "model_id": "f7f5ba9d73f848a3a21fcd3023084359",
       "version_major": 2,
       "version_minor": 0
      },
      "text/plain": [
       "Epoch 19:   0%|          | 0/2 [00:00<?, ?it/s]"
      ]
     },
     "metadata": {},
     "output_type": "display_data"
    },
    {
     "data": {
      "application/vnd.jupyter.widget-view+json": {
       "model_id": "92bb0daf19ff42948a3a49625bebbecc",
       "version_major": 2,
       "version_minor": 0
      },
      "text/plain": [
       "Reverse diffusion:   0%|          | 0/200 [00:00<?, ?it/s]"
      ]
     },
     "metadata": {},
     "output_type": "display_data"
    },
    {
     "name": "stdout",
     "output_type": "stream",
     "text": [
      "loss_ev 0.01271254476159811\n",
      "loss_kl 0.06449025869369507\n"
     ]
    },
    {
     "data": {
      "application/vnd.jupyter.widget-view+json": {
       "model_id": "df8f131550ad459faeea5bb425bb5f3c",
       "version_major": 2,
       "version_minor": 0
      },
      "text/plain": [
       "Reverse diffusion:   0%|          | 0/200 [00:00<?, ?it/s]"
      ]
     },
     "metadata": {},
     "output_type": "display_data"
    },
    {
     "name": "stdout",
     "output_type": "stream",
     "text": [
      "loss_ev 0.017378680408000946\n",
      "loss_kl 0.06223727762699127\n",
      "Epoch 19: Average training loss = 0.0277\n"
     ]
    },
    {
     "data": {
      "application/vnd.jupyter.widget-view+json": {
       "model_id": "992cefec4b72461a844838761496e644",
       "version_major": 2,
       "version_minor": 0
      },
      "text/plain": [
       "Epoch 20:   0%|          | 0/2 [00:00<?, ?it/s]"
      ]
     },
     "metadata": {},
     "output_type": "display_data"
    },
    {
     "data": {
      "application/vnd.jupyter.widget-view+json": {
       "model_id": "9638448f1fb7445282757be520c1d13d",
       "version_major": 2,
       "version_minor": 0
      },
      "text/plain": [
       "Reverse diffusion:   0%|          | 0/200 [00:00<?, ?it/s]"
      ]
     },
     "metadata": {},
     "output_type": "display_data"
    },
    {
     "name": "stdout",
     "output_type": "stream",
     "text": [
      "loss_ev 0.016754046082496643\n",
      "loss_kl 0.06364288926124573\n"
     ]
    },
    {
     "data": {
      "application/vnd.jupyter.widget-view+json": {
       "model_id": "fff160bf604e48708d516e3f65e8218f",
       "version_major": 2,
       "version_minor": 0
      },
      "text/plain": [
       "Reverse diffusion:   0%|          | 0/200 [00:00<?, ?it/s]"
      ]
     },
     "metadata": {},
     "output_type": "display_data"
    },
    {
     "name": "stdout",
     "output_type": "stream",
     "text": [
      "loss_ev 0.01897045224905014\n",
      "loss_kl 0.06302669644355774\n",
      "Epoch 20: Average training loss = 0.0305\n"
     ]
    },
    {
     "data": {
      "application/vnd.jupyter.widget-view+json": {
       "model_id": "79d387c434754d319e20fef4c60d0765",
       "version_major": 2,
       "version_minor": 0
      },
      "text/plain": [
       "Reverse diffusion:   0%|          | 0/200 [00:00<?, ?it/s]"
      ]
     },
     "metadata": {},
     "output_type": "display_data"
    },
    {
     "name": "stdout",
     "output_type": "stream",
     "text": [
      "loss_ev 0.01724058762192726\n",
      "loss_kl 0.06249023228883743\n",
      "Validation loss: 0.0297\n"
     ]
    },
    {
     "data": {
      "text/plain": [
       "<All keys matched successfully>"
      ]
     },
     "execution_count": 4,
     "metadata": {},
     "output_type": "execute_result"
    }
   ],
   "source": [
    "def finetune(\n",
    "    sde: DiGMixSO3SDE,\n",
    "    score_model: nn.Module,\n",
    "    finetune_model: nn.Module,\n",
    "    mus: torch.Tensor,\n",
    "    sigmas: torch.Tensor,\n",
    "    weights: torch.Tensor,\n",
    "    *,\n",
    "    device: DeviceLikeType | None = None,\n",
    "    lambda_: float = 0.2,\n",
    "    epochs: int = 20,\n",
    "    batch_size: int = 4096,\n",
    "    num_steps: int = 200,\n",
    "    num_batches: int = 2,\n",
    "    l_max: int = 1000,\n",
    "    lr: float = 5e-3,\n",
    "    weight_decay: float = 1e-4,\n",
    "    eta_min: float = 1e-5,\n",
    "    tol: float = 1e-7,\n",
    "):\n",
    "    # instantiate SDE and score model\n",
    "    sde.to(device)\n",
    "    score_model.to(device).eval()\n",
    "    finetune_model.to(device)\n",
    "\n",
    "    # instantiate the mixture parameters\n",
    "    mus = mus.to(device)\n",
    "    sigmas = sigmas.to(device)\n",
    "    weights = weights.to(device)\n",
    "\n",
    "    optimizer = AdamW(finetune_model.parameters(), lr=lr, weight_decay=weight_decay)\n",
    "    scheduler = CosineAnnealingLR(optimizer, T_max=epochs, eta_min=eta_min)\n",
    "\n",
    "    for epoch in range(1, epochs + 1):\n",
    "        finetune_model.train()\n",
    "        epoch_loss = 0.0\n",
    "        pbar = tqdm(range(num_batches), desc=f\"Epoch {epoch}\", leave=False)\n",
    "        for _ in pbar:\n",
    "            loss = compute_finetune_loss(\n",
    "                sde,\n",
    "                score_model,\n",
    "                finetune_model,\n",
    "                mus,\n",
    "                sigmas,\n",
    "                weights,\n",
    "                lambda_=lambda_,\n",
    "                device=device,\n",
    "                batch_size=batch_size,\n",
    "                num_steps=num_steps,\n",
    "                l_max=l_max,\n",
    "                tol=tol,\n",
    "            )\n",
    "\n",
    "            optimizer.zero_grad()\n",
    "            loss.backward()\n",
    "            optimizer.step()\n",
    "\n",
    "            l = loss.detach().item()\n",
    "            epoch_loss += l\n",
    "            pbar.set_postfix(loss=f\"{l:.2f}\")\n",
    "\n",
    "        scheduler.step()\n",
    "        avg_loss = epoch_loss / num_batches\n",
    "        print(f\"Epoch {epoch}: Average training loss = {avg_loss:.4f}\")\n",
    "\n",
    "        if epoch % 10 == 0:\n",
    "            finetune_model.eval()\n",
    "            with torch.no_grad():\n",
    "                val_loss = compute_finetune_loss(\n",
    "                    sde,\n",
    "                    score_model,\n",
    "                    finetune_model,\n",
    "                    mus,\n",
    "                    sigmas,\n",
    "                    weights,\n",
    "                    lambda_=lambda_,\n",
    "                    device=device,\n",
    "                    batch_size=batch_size,\n",
    "                    num_steps=num_steps,\n",
    "                    l_max=l_max,\n",
    "                    tol=tol,\n",
    "                )\n",
    "            print(f\"Validation loss: {val_loss:.4f}\")\n",
    "\n",
    "\n",
    "score_model.load_state_dict(torch.load(\"score_model.pt\", map_location=device))\n",
    "finetune(\n",
    "    sde,\n",
    "    score_model,\n",
    "    finetune_model,\n",
    "    mus_finetune,\n",
    "    sigmas_finetune,\n",
    "    weights_finetune,\n",
    "    device=device,\n",
    "    lambda_=0.2,\n",
    ")\n",
    "# save the model\n",
    "torch.save(finetune_model.state_dict(), \"finetune_model.pt\")\n",
    "# load the model\n",
    "finetune_model.load_state_dict(torch.load(\"finetune_model.pt\"))"
   ]
  },
  {
   "cell_type": "code",
   "execution_count": 5,
   "metadata": {},
   "outputs": [
    {
     "data": {
      "application/vnd.jupyter.widget-view+json": {
       "model_id": "232c722b546c4d02ab7eff9db5ae68d9",
       "version_major": 2,
       "version_minor": 0
      },
      "text/plain": [
       "Reverse diffusion:   0%|          | 0/2000 [00:00<?, ?it/s]"
      ]
     },
     "metadata": {},
     "output_type": "display_data"
    },
    {
     "data": {
      "application/vnd.jupyter.widget-view+json": {
       "model_id": "1d2f5a1affa140f4b08a29b053a5bc99",
       "version_major": 2,
       "version_minor": 0
      },
      "text/plain": [
       "Plotting:   0%|          | 0/8 [00:00<?, ?it/s]"
      ]
     },
     "metadata": {},
     "output_type": "display_data"
    },
    {
     "data": {
      "image/png": "[encoded data removed]",
      "text/plain": [
       "<Figure size 1500x600 with 8 Axes>"
      ]
     },
     "metadata": {},
     "output_type": "display_data"
    }
   ],
   "source": [
    "@torch.no_grad()\n",
    "def visualize_finetune_diffusion(\n",
    "    sde: DiGMixSO3SDE,\n",
    "    score_model: nn.Module,\n",
    "    finetune_model: nn.Module,\n",
    "    mus: torch.Tensor,\n",
    "    sigmas: torch.Tensor,\n",
    "    weights: torch.Tensor,\n",
    "    *,\n",
    "    device: DeviceLikeType | None = None,\n",
    "    batch_size: int = 65536,\n",
    "    num_steps: int = 2000,\n",
    "    t_num: int = 8,\n",
    "    l_max: int = 1000,\n",
    "    num_points: int = 1000,\n",
    "    tol: float = 1e-7,\n",
    "):\n",
    "    sde.to(device)\n",
    "    score_model.to(device).eval()\n",
    "    finetune_model.to(device).eval()\n",
    "\n",
    "    mus = mus.to(device)\n",
    "    sigmas = sigmas.to(device)\n",
    "    weights = weights.to(device)\n",
    "\n",
    "    # reverse diffusion samples\n",
    "    xs, t_vals, *_ = reverse_finetune_diffusion(\n",
    "        sde,\n",
    "        score_model,\n",
    "        finetune_model,\n",
    "        device=device,\n",
    "        batch_size=batch_size,\n",
    "        num_steps=num_steps,\n",
    "    )\n",
    "\n",
    "    x_0 = sde.sample_multiple_igso3(\n",
    "        mus, sigmas, weights, batch_size, device=device\n",
    "    )  # (B,3,3)\n",
    "\n",
    "    # pick checkpoints\n",
    "    idxs = np.linspace(0, num_steps, t_num, dtype=int)\n",
    "    fig, axes = plt.subplots(\n",
    "        2, int(np.ceil(t_num / 2)), figsize=(15, 6), constrained_layout=True\n",
    "    )\n",
    "    axes: np.ndarray = axes.flatten()\n",
    "\n",
    "    for i in trange(t_num, desc=\"Plotting\", leave=False):\n",
    "        # plot forward and reverse marginals\n",
    "        ax: Axes = axes[i]\n",
    "        idx = idxs[i]\n",
    "        t_val = t_vals[idx].item()\n",
    "        t = torch.full((batch_size,), t_val, device=device)\n",
    "\n",
    "        # a) true forward histogram\n",
    "        x_t = sde.sample_marginal(x_0, t)\n",
    "        true_angles = angle_from_rotmat(x_t)[0]\n",
    "        ax.hist(\n",
    "            true_angles.cpu().numpy(),\n",
    "            bins=100,\n",
    "            density=True,\n",
    "            alpha=0.8,\n",
    "            label=\"true forward\",\n",
    "            color=\"lightblue\",\n",
    "        )\n",
    "\n",
    "        # b) predicted reverse histogram\n",
    "        x_rev = xs[idx]\n",
    "        rev_angles = angle_from_rotmat(x_rev)[0]\n",
    "        ax.hist(\n",
    "            rev_angles.cpu().numpy(),\n",
    "            bins=100,\n",
    "            density=True,\n",
    "            histtype=\"step\",\n",
    "            linestyle=\"--\",\n",
    "            linewidth=1,\n",
    "            label=\"predicted reverse\",\n",
    "            color=\"orange\",\n",
    "        )\n",
    "\n",
    "        # c) theoretical forward marginal (vectorized)\n",
    "        sigma_t = torch.sqrt(sde._marginal_std(t_vals[idx]) ** 2 + sigmas**2)  # (K,)\n",
    "        omega, pdf = igso3_mixture_marginal_pdf(\n",
    "            mus,\n",
    "            sigma_t,\n",
    "            weights,\n",
    "            l_max=l_max,\n",
    "            num_points=num_points,\n",
    "            tol=tol,\n",
    "        )\n",
    "\n",
    "        ax.plot(\n",
    "            omega.cpu().numpy(),\n",
    "            pdf.cpu().numpy(),\n",
    "            color=\"pink\",\n",
    "            lw=2,\n",
    "            label=\"theoretical PDF\",\n",
    "        )\n",
    "\n",
    "        ax.set_title(f\"t = {t_val:.2f}\")\n",
    "        ax.set_xlabel(\"rotation-angle (rad)\")\n",
    "        ax.set_ylabel(\"density\")\n",
    "        ax.legend()\n",
    "\n",
    "    plt.show()\n",
    "\n",
    "\n",
    "score_model.load_state_dict(torch.load(\"score_model.pt\", map_location=device))\n",
    "finetune_model.load_state_dict(torch.load(\"finetune_model.pt\", map_location=device))\n",
    "visualize_finetune_diffusion(\n",
    "    sde,\n",
    "    score_model,\n",
    "    finetune_model,\n",
    "    mus_finetune,\n",
    "    sigmas_finetune,\n",
    "    weights_finetune,\n",
    "    device=device,\n",
    ")"
   ]
  }
 ],
 "metadata": {
  "colab": {
   "collapsed_sections": [
    "RSVrXQpEYPYz"
   ],
   "provenance": []
  },
  "kernelspec": {
   "display_name": "se3diff",
   "language": "python",
   "name": "python3"
  },
  "language_info": {
   "codemirror_mode": {
    "name": "ipython",
    "version": 3
   },
   "file_extension": ".py",
   "mimetype": "text/x-python",
   "name": "python",
   "nbconvert_exporter": "python",
   "pygments_lexer": "ipython3",
   "version": "3.12.9"
  }
 },
 "nbformat": 4,
 "nbformat_minor": 0
}
