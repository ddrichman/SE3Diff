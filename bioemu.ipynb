{
 "cells": [
  {
   "cell_type": "code",
   "execution_count": null,
   "id": "2a3638f4",
   "metadata": {},
   "outputs": [],
   "source": [
    "import os\n",
    "\n",
    "import pandas as pd\n",
    "import torch\n",
    "\n",
    "from bioemu.observables.folding_stability import compute_folded_proportion_from_dG\n",
    "from datasets import DatasetDict, load_dataset\n",
    "\n",
    "seed = 42  # Set a seed for reproducibility"
   ]
  },
  {
   "cell_type": "code",
   "execution_count": null,
   "id": "68db990b",
   "metadata": {},
   "outputs": [],
   "source": [
    "# 1. Load your dataset\n",
    "dataset_tag = \"dataset2\"\n",
    "dataset2 = load_dataset(\n",
    "    path=\"RosettaCommons/MegaScale\", name=dataset_tag, data_dir=dataset_tag\n",
    ")\n",
    "\n",
    "# 2. First split: 80% train / 20% (val + test)\n",
    "train_testvalid = dataset2[\"train\"].train_test_split(test_size=0.2, seed=42)\n",
    "\n",
    "# 3. Second split: split that 20% into two equal parts (10% each)\n",
    "test_valid = train_testvalid[\"test\"].train_test_split(test_size=0.5, seed=42)\n",
    "\n",
    "# 4. Build the final DatasetDict\n",
    "dataset2_splits = DatasetDict(\n",
    "    {\n",
    "        \"train\": train_testvalid[\"train\"],  # 80%\n",
    "        \"val\": test_valid[\"train\"],  # 10%\n",
    "        \"test\": test_valid[\"test\"],  # 10%\n",
    "    }\n",
    ")"
   ]
  },
  {
   "cell_type": "code",
   "execution_count": null,
   "id": "4517bfea",
   "metadata": {},
   "outputs": [],
   "source": [
    "os.makedirs(\"datasets/megascale\", exist_ok=True)\n",
    "\n",
    "dataset2_splits[\"train\"].to_csv(\"datasets/megascale/train.csv\")\n",
    "dataset2_splits[\"val\"].to_csv(\"datasets/megascale/val.csv\")\n",
    "dataset2_splits[\"test\"].to_csv(\"datasets/megascale/test.csv\")"
   ]
  },
  {
   "cell_type": "code",
   "execution_count": null,
   "id": "b2209c95",
   "metadata": {},
   "outputs": [],
   "source": [
    "train = pd.read_csv(\"datasets/megascale/train.csv\")\n",
    "val = pd.read_csv(\"datasets/megascale/val.csv\")\n",
    "test = pd.read_csv(\"datasets/megascale/test.csv\")\n",
    "\n",
    "# convert dG_ML to float and fileter out values that are not numbers\n",
    "train[\"dG_ML\"] = pd.to_numeric(train[\"dG_ML\"], errors=\"coerce\")\n",
    "val[\"dG_ML\"] = pd.to_numeric(val[\"dG_ML\"], errors=\"coerce\")\n",
    "test[\"dG_ML\"] = pd.to_numeric(test[\"dG_ML\"], errors=\"coerce\")\n",
    "# filter out rows with NaN dG_ML\n",
    "train = train.dropna(subset=[\"dG_ML\"])\n",
    "val = val.dropna(subset=[\"dG_ML\"])\n",
    "test = test.dropna(subset=[\"dG_ML\"])\n",
    "# compute the proportion of folded sequences based on dG_ML\n",
    "train[\"p_folded\"] = compute_folded_proportion_from_dG(\n",
    "    torch.tensor(-train[\"dG_ML\"].to_numpy())\n",
    ").numpy()\n",
    "val[\"p_folded\"] = compute_folded_proportion_from_dG(\n",
    "    torch.tensor(-val[\"dG_ML\"].to_numpy())\n",
    ").numpy()\n",
    "test[\"p_folded\"] = compute_folded_proportion_from_dG(\n",
    "    torch.tensor(-test[\"dG_ML\"].to_numpy())\n",
    ").numpy()"
   ]
  },
  {
   "cell_type": "code",
   "execution_count": null,
   "id": "1702c003",
   "metadata": {},
   "outputs": [],
   "source": [
    "# randmly sample 5 sequences from train and 1 sequence from val\n",
    "# sequences should be shorter than 35 amino acids\n",
    "train_sample = train[train[\"aa_seq\"].str.len() < 35].sample(n=5, random_state=seed)\n",
    "val_sample = val[val[\"aa_seq\"].str.len() < 35].sample(n=1, random_state=seed)\n",
    "# save the samples\n",
    "os.makedirs(\"test/megascale\", exist_ok=True)\n",
    "train_sample.to_csv(\"test/megascale/train_sample.csv\", index=False)\n",
    "val_sample.to_csv(\"test/megascale/val_sample.csv\", index=False)"
   ]
  }
 ],
 "metadata": {
  "kernelspec": {
   "display_name": "se3diff",
   "language": "python",
   "name": "python3"
  },
  "language_info": {
   "codemirror_mode": {
    "name": "ipython",
    "version": 3
   },
   "file_extension": ".py",
   "mimetype": "text/x-python",
   "name": "python",
   "nbconvert_exporter": "python",
   "pygments_lexer": "ipython3",
   "version": "3.12.9"
  }
 },
 "nbformat": 4,
 "nbformat_minor": 5
}
