{
 "cells": [
  {
   "cell_type": "code",
   "execution_count": 1,
   "metadata": {},
   "outputs": [],
   "source": [
    "from pathlib import Path\n",
    "\n",
    "import pandas as pd\n",
    "import glob\n",
    "import torch\n",
    "import numpy as np\n",
    "import matplotlib.pyplot as plt\n",
    "import seaborn as sns\n",
    "\n",
    "import scipy.stats"
   ]
  },
  {
   "cell_type": "code",
   "execution_count": 2,
   "metadata": {},
   "outputs": [
    {
     "name": "stderr",
     "output_type": "stream",
     "text": [
      "/oak/stanford/groups/rondror/users/ddrichma/2025/finetune-bioemu/SE3Diff/bioemu/src/bioemu/observables.py:210: SyntaxWarning: invalid escape sequence '\\m'\n",
      "  q = \\frac{1}{N_\\mathrm{contacts}} \\sum_{c}^{N_\\mathrm{contacts}} \\frac{1}{1 + \\exp(-\\beta(d_c - \\lambda (d^\\mathrm{ref}_c + \\delta)))}\n",
      "/scratch/users/ddrichma/micromamba/envs/mamba250530-bioemu-ft/lib/python3.12/site-packages/Bio/pairwise2.py:278: BiopythonDeprecationWarning: Bio.pairwise2 has been deprecated, and we intend to remove it in a future release of Biopython. As an alternative, please consider using Bio.Align.PairwiseAligner as a replacement, and contact the Biopython developers if you still need the Bio.pairwise2 module.\n",
      "  warnings.warn(\n"
     ]
    }
   ],
   "source": [
    "from bioemu import observables"
   ]
  },
  {
   "cell_type": "code",
   "execution_count": 3,
   "metadata": {},
   "outputs": [],
   "source": [
    "def read_dir(output_dir):\n",
    "    samples_files = sorted(list(output_dir.glob(\"batch_*.npz\")))\n",
    "    data = [np.load(f) for f in samples_files]\n",
    "    sequences = [d[\"sequence\"].item() for d in data]\n",
    "    if len(set(sequences)) != 1:\n",
    "        raise ValueError(f\"Expected all sequences to be {sequences[0]}, but got {set(sequences)}\")\n",
    "    positions = torch.tensor(np.concatenate([d[\"pos\"] for d in data]))\n",
    "    node_orientations = torch.tensor(\n",
    "        np.concatenate([d[\"node_orientations\"] for d in data])\n",
    "    )\n",
    "\n",
    "    return sequences[0], positions, node_orientations"
   ]
  },
  {
   "cell_type": "markdown",
   "metadata": {},
   "source": [
    "# Quick check of wild type protein"
   ]
  },
  {
   "cell_type": "code",
   "execution_count": 4,
   "metadata": {},
   "outputs": [],
   "source": [
    "_, wt_pos, wt_orientations = read_dir(Path('../../bioemu-testing/protein_results/grb2-sh3/test0/wt/'))"
   ]
  },
  {
   "cell_type": "code",
   "execution_count": 5,
   "metadata": {},
   "outputs": [],
   "source": [
    "h = observables.compute_h_for_grb2_sh3(wt_pos, wt_orientations, \"structures/2vwf_trimmed_SH3.pdb\")"
   ]
  },
  {
   "cell_type": "code",
   "execution_count": 6,
   "metadata": {},
   "outputs": [
    {
     "data": {
      "text/plain": [
       "(array([ 60.,   0.,   0.,   0.,   0.,   0.,   0.,   0.,   0., 940.]),\n",
       " array([0.        , 0.1       , 0.2       , 0.30000001, 0.40000001,\n",
       "        0.5       , 0.60000002, 0.69999999, 0.80000001, 0.89999998,\n",
       "        1.        ]),\n",
       " <BarContainer object of 10 artists>)"
      ]
     },
     "execution_count": 6,
     "metadata": {},
     "output_type": "execute_result"
    },
    {
     "data": {
      "image/png": "[encoded data removed]",
      "text/plain": [
       "<Figure size 640x480 with 1 Axes>"
      ]
     },
     "metadata": {},
     "output_type": "display_data"
    }
   ],
   "source": [
    "plt.hist(h[:, 0])"
   ]
  },
  {
   "cell_type": "markdown",
   "metadata": {},
   "source": [
    "# Plot non-ft BioEmu results for many mutants"
   ]
  },
  {
   "cell_type": "code",
   "execution_count": 7,
   "metadata": {},
   "outputs": [
    {
     "name": "stdout",
     "output_type": "stream",
     "text": [
      "F19I\n",
      "F19L\n",
      "L6I\n",
      "wt\n",
      "T53G\n",
      "H26T\n",
      "W36K\n",
      "P11L\n",
      "D32F\n",
      "M28Y\n",
      "Q12E\n",
      "D23Y\n",
      "N56E\n",
      "N56D\n",
      "R49A\n",
      "C40P\n",
      "Y2D\n",
      "D23F\n",
      "D10I\n",
      "G18N\n",
      "Q43R\n",
      "P33H\n",
      "G45V\n",
      "N56V\n",
      "F7Y\n",
      "V27G\n",
      "D29I\n",
      "C40F\n",
      "K37G\n",
      "D8H\n",
      "D10N\n",
      "V55D\n",
      "F7P\n",
      "Q43W\n",
      "L17R\n",
      "W36C\n",
      "Q4S\n",
      "R20C\n",
      "G22W\n",
      "Q12T\n",
      "P11Q\n",
      "V3P\n",
      "G45N\n",
      "V27Y\n",
      "T53S\n",
      "M46S\n",
      "S31I\n",
      "C40Y\n",
      "G18H\n",
      "G18T\n",
      "D32C\n",
      "N56H\n",
      "Q4L\n",
      "D32N\n",
      "E16M\n",
      "I25D\n",
      "Q12H\n",
      "W36G\n",
      "H41D\n",
      "V52S\n",
      "T1L\n",
      "D23S\n",
      "T53V\n",
      "R21A\n",
      "S31E\n",
      "A39Y\n",
      "Y2N\n",
      "P33S\n",
      "W36V\n",
      "G45S\n",
      "F47Y\n",
      "R20L\n",
      "G22V\n",
      "V3D\n",
      "N34G\n",
      "V27N\n",
      "N34L\n",
      "K37R\n",
      "P54A\n",
      "R49S\n",
      "M46E\n",
      "D14G\n",
      "R21K\n",
      "M46I\n",
      "R21L\n",
      "N34R\n",
      "D8T\n",
      "G38R\n",
      "D23N\n",
      "N56T\n",
      "P33T\n",
      "M46L\n",
      "V27L\n",
      "P54Q\n",
      "M28L\n",
      "Q43D\n",
      "N50F\n",
      "H26L\n",
      "R20A\n",
      "S31T\n",
      "H41F\n",
      "M28V\n",
      "F24I\n",
      "R49L\n",
      "V55M\n",
      "P48L\n",
      "H41I\n",
      "C40R\n",
      "G22I\n",
      "Y2C\n",
      "M28R\n",
      "T44S\n",
      "R49G\n",
      "R21W\n",
      "Y51I\n",
      "G45R\n",
      "E16G\n",
      "Y51H\n",
      "F7S\n",
      "T44F\n",
      "F24T\n",
      "L6H\n",
      "D23A\n",
      "W36L\n",
      "V3T\n",
      "H26E\n",
      "W36F\n",
      "G22Q\n",
      "V3E\n",
      "P48Y\n",
      "F7T\n",
      "G18I\n",
      "R49Q\n",
      "N50H\n",
      "Q12V\n",
      "D14F\n",
      "D8F\n",
      "H26I\n",
      "Q4T\n",
      "D14S\n",
      "D29E\n",
      "N30K\n",
      "V3S\n",
      "E13N\n",
      "M46K\n",
      "N30Y\n",
      "R21P\n",
      "D8I\n",
      "Y2Q\n",
      "V52P\n",
      "M28G\n",
      "G42C\n",
      "N30T\n",
      "R49T\n",
      "N50Y\n",
      "P48Q\n",
      "F9L\n",
      "T44V\n",
      "G18D\n",
      "A5G\n",
      "N34E\n",
      "R20P\n",
      "G18C\n",
      "M28S\n",
      "G15W\n",
      "N30D\n",
      "P48S\n",
      "R21H\n",
      "E16V\n",
      "H26A\n",
      "L17M\n",
      "H26R\n",
      "G15Q\n",
      "E13A\n",
      "G42W\n",
      "T1G\n",
      "N56Y\n",
      "N50S\n",
      "G42D\n",
      "Q43L\n",
      "R20S\n",
      "R49C\n",
      "N50E\n",
      "R21M\n",
      "T1V\n",
      "F24V\n",
      "H41N\n",
      "W36S\n",
      "M28E\n",
      "N50M\n",
      "H26D\n",
      "Q4M\n",
      "M46T\n",
      "T1M\n",
      "I25L\n",
      "F9I\n",
      "N50D\n",
      "G15V\n",
      "D10G\n",
      "T1K\n",
      "E16D\n",
      "W35C\n",
      "H26N\n",
      "P11H\n",
      "Y2I\n",
      "S31Y\n",
      "R21G\n",
      "P54R\n",
      "H41K\n",
      "P54N\n",
      "D29A\n",
      "D10E\n",
      "E16K\n",
      "H41G\n",
      "Q4P\n",
      "V3N\n",
      "H41Y\n",
      "P54I\n",
      "Q12Y\n",
      "V27I\n",
      "R49H\n",
      "D32G\n",
      "T1N\n",
      "Q12N\n",
      "D23P\n",
      "N50V\n",
      "N50Q\n",
      "C40L\n",
      "R49F\n",
      "C40N\n",
      "N50K\n",
      "D8G\n",
      "P33I\n",
      "D32A\n",
      "P54Y\n",
      "N56G\n",
      "Q12R\n",
      "C40S\n",
      "Y51N\n",
      "T44Y\n",
      "P11S\n",
      "H26C\n",
      "F24W\n",
      "P11F\n",
      "T53N\n",
      "A5D\n",
      "D14L\n",
      "P33L\n",
      "G38V\n",
      "S31Q\n",
      "M46R\n",
      "T1I\n",
      "K37Q\n",
      "Q43N\n",
      "K37D\n",
      "V52I\n",
      "P54D\n",
      "Y2K\n",
      "D29S\n",
      "G45E\n",
      "L17I\n",
      "T53K\n",
      "H26S\n",
      "T44N\n",
      "A5P\n",
      "R20T\n",
      "V52G\n",
      "S31K\n",
      "Y51F\n",
      "T1P\n",
      "L6Y\n",
      "F7C\n",
      "V3G\n",
      "M46V\n"
     ]
    }
   ],
   "source": [
    "records = []\n",
    "\n",
    "for mutation_dir in Path('../../bioemu-testing/protein_results/grb2-sh3/test0/').glob('*'):\n",
    "    mutation_name = mutation_dir.name\n",
    "    print(mutation_name)\n",
    "\n",
    "    _, pos, orientations = read_dir(mutation_dir)\n",
    "    h = observables.compute_h_for_grb2_sh3(pos, orientations, \"structures/2vwf_trimmed_SH3.pdb\")\n",
    "\n",
    "    # rough proxy for dg_binding\n",
    "    h_folded, h_bindable = h[:, 0], h[:, 1]\n",
    "    dg_folding = -np.log((h_folded == 1).sum() / (h_folded == 0).sum()).item()\n",
    "    dg_binding = -np.log((h_bindable == 1).sum() / (h_bindable == 0).sum()).item()\n",
    "\n",
    "    records.append((mutation_name, dg_folding, dg_binding))"
   ]
  },
  {
   "cell_type": "code",
   "execution_count": 8,
   "metadata": {},
   "outputs": [
    {
     "data": {
      "text/plain": [
       "tensor([1., 1., 1., 0., 1., 1., 1., 1., 1., 1., 1., 1., 1., 1., 1., 1., 1., 1.,\n",
       "        1., 1., 1., 1., 1., 1., 1., 1., 0., 1., 1., 1., 1., 1., 1., 1., 1., 1.,\n",
       "        1., 1., 1., 1., 1., 1., 1., 1., 1., 1., 1., 1., 1., 1., 1., 1., 1., 1.,\n",
       "        1., 1., 1., 1., 1., 1., 1., 1., 1., 1., 1., 1., 1., 1., 1., 1., 1., 1.,\n",
       "        1., 1., 1., 0., 0., 1., 1., 1., 1., 1., 1., 1., 1., 1., 1., 1., 1., 1.,\n",
       "        1., 1., 1., 1., 1., 1., 1., 1., 1., 1., 1., 1., 1., 1., 1., 1., 1., 0.,\n",
       "        1., 1., 1., 1., 1., 1., 1., 1., 1., 1., 1., 1., 1., 1., 1., 1., 1., 1.,\n",
       "        0., 1., 1., 1., 1., 1., 1., 1., 1., 1., 1., 1., 1., 1., 1., 1., 1., 1.,\n",
       "        1., 1., 1., 1., 1., 1., 1., 1., 1., 0., 1., 1., 1., 1., 1., 1., 1., 1.,\n",
       "        1., 1., 1., 1., 1., 1., 1., 1., 1., 1., 1., 1., 1., 1., 1., 1., 1., 1.,\n",
       "        1., 1., 1., 1., 1., 1., 1., 1., 1., 0., 1., 1., 1., 1., 1., 1., 1., 1.,\n",
       "        1., 1., 0., 1., 1., 1., 1., 1., 1., 1., 1., 1., 1., 1., 1., 1., 1., 1.,\n",
       "        1., 1., 1., 1., 1., 1., 1., 1., 1., 1., 1., 1., 1., 1., 0., 1., 1., 1.,\n",
       "        1., 1., 1., 1., 1., 0., 1., 1., 1., 1., 0., 1., 1., 1., 1., 1., 1., 1.,\n",
       "        1., 1., 1., 1., 0., 1., 1., 1., 1., 1., 1., 1., 1., 1., 1., 1., 1., 1.,\n",
       "        1., 1., 1., 1., 1., 1., 1., 1., 1., 1., 1., 1., 1., 1., 1., 1., 1., 1.,\n",
       "        1., 1., 1., 1., 1., 1., 1., 1., 1., 1., 1., 1., 1., 1., 1., 1., 1., 1.,\n",
       "        1., 1., 0., 1., 1., 1., 1., 1., 1., 1., 1., 0., 1., 1., 1., 1., 1., 1.,\n",
       "        1., 1., 1., 1., 1., 1., 1., 1., 1., 1., 1., 1., 1., 1., 1., 1., 1., 1.,\n",
       "        1., 1., 1., 0., 1., 1., 1., 0., 1., 1., 1., 1., 1., 1., 1., 1., 1., 1.,\n",
       "        1., 1., 1., 0., 1., 1., 1., 1., 1., 1., 1., 1., 1., 1., 1., 1., 1., 1.,\n",
       "        1., 1., 1., 1., 1., 1., 0., 1., 1., 1., 1., 1., 1., 1., 1., 1., 1., 1.,\n",
       "        1., 1., 1., 1., 1., 1., 1., 1., 1., 0., 1., 1., 1., 1., 1., 1., 1., 1.,\n",
       "        0., 1., 1., 1., 1., 1., 1., 1., 1., 1., 1., 1., 1., 1., 1., 1., 1., 1.,\n",
       "        1., 1., 1., 1., 1., 1., 1., 1., 1., 1., 1., 1., 1., 1., 0., 1., 1., 1.,\n",
       "        1., 1., 1., 1., 1., 1., 1., 1., 1., 1., 1., 1., 1., 0., 1., 1., 1., 1.,\n",
       "        1., 1., 1., 1., 0., 1., 1., 1., 0., 1., 1., 1., 1., 1., 1., 1., 1., 1.,\n",
       "        1., 1., 1., 1., 1., 1., 1., 1., 1., 1., 1., 1., 0., 1., 1., 1., 0., 1.,\n",
       "        1., 1., 1., 1., 1., 1., 1., 1., 1., 1., 1., 1., 1., 0., 1., 1., 1., 1.,\n",
       "        0., 1., 1., 1., 1., 1., 1., 1., 1., 1., 1., 0., 1., 1., 1., 1., 1., 1.,\n",
       "        0., 1., 1., 0., 1., 1., 1., 0., 1., 1., 1., 0., 1., 1., 1., 1., 1., 1.,\n",
       "        1., 1., 1., 1., 1., 1., 1., 1., 1., 1., 1., 1., 1., 1., 1., 1., 1., 1.,\n",
       "        1., 1., 1., 1., 1., 1., 1., 1., 1., 1., 1., 1., 1., 1., 1., 1., 1., 1.,\n",
       "        1., 1., 1., 1., 1., 1., 1., 1., 1., 1., 1., 1., 1., 1., 1., 1., 1., 1.,\n",
       "        1., 0., 1., 1., 1., 1., 1., 1., 1., 1., 0., 1., 1., 0., 1., 1., 1., 1.,\n",
       "        1., 1., 0., 1., 1., 1., 1., 1., 1., 1., 1., 1., 1., 1., 1., 1., 0., 1.,\n",
       "        1., 1., 1., 1., 1., 1., 1., 1., 1., 1., 1., 1., 1., 1., 1., 1., 1., 1.,\n",
       "        1., 1., 1., 1., 1., 1., 1., 1., 1., 1., 0., 1., 1., 0., 1., 1., 1., 1.,\n",
       "        1., 1., 1., 1., 1., 1., 1., 1., 1., 1., 1., 1., 1., 1., 1., 1., 1., 1.,\n",
       "        1., 1., 1., 1., 1., 1., 1., 1., 1., 1., 1., 1., 1., 1., 1., 1., 1., 1.,\n",
       "        1., 1., 1., 1., 1., 1., 1., 1., 1., 1., 1., 1., 0., 1., 1., 1., 1., 1.,\n",
       "        0., 1., 1., 1., 1., 1., 1., 1., 1., 1., 1., 1., 1., 1., 1., 1., 0., 1.,\n",
       "        0., 1., 1., 0., 1., 1., 1., 1., 1., 1., 1., 1., 1., 1., 1., 1., 1., 1.,\n",
       "        1., 1., 1., 1., 1., 1., 1., 1., 1., 1., 1., 1., 1., 1., 1., 1., 1., 1.,\n",
       "        1., 1., 1., 1., 1., 0., 1., 1., 1., 1., 1., 1., 1., 1., 1., 1., 1., 1.,\n",
       "        1., 1., 1., 1., 1., 1., 1., 1., 1., 1., 1., 1., 1., 1., 1., 1., 1., 1.,\n",
       "        1., 1., 1., 1., 1., 1., 1., 1., 1., 1., 1., 1., 1., 1., 0., 0., 1., 1.,\n",
       "        1., 1., 1., 1., 1., 1., 1., 1., 1., 1., 1., 1., 1., 1., 1., 0., 1., 0.,\n",
       "        1., 1., 1., 1., 1., 1., 1., 1., 1., 1., 1., 1., 1., 1., 1., 1., 0., 1.,\n",
       "        1., 1., 1., 1., 1., 1., 1., 1., 1., 1., 1., 1., 1., 1., 1., 1., 1., 1.,\n",
       "        1., 1., 1., 1., 1., 1., 0., 1., 1., 1., 1., 1., 1., 1., 1., 1., 1., 1.,\n",
       "        1., 1., 1., 1., 1., 1., 1., 1., 1., 1., 1., 1., 1., 1., 0., 1., 1., 1.,\n",
       "        1., 1., 1., 1., 0., 1., 1., 1., 1., 1., 1., 1., 1., 1., 1., 1., 1., 1.,\n",
       "        1., 1., 1., 1., 0., 1., 1., 0., 1., 1., 1., 1., 1., 1., 0., 1., 1., 1.,\n",
       "        1., 1., 1., 1., 1., 1., 1., 1., 1., 0., 1., 1., 1., 1., 1., 1., 0., 1.,\n",
       "        1., 1., 1., 1., 1., 1., 1., 1., 1., 1.])"
      ]
     },
     "execution_count": 8,
     "metadata": {},
     "output_type": "execute_result"
    }
   ],
   "source": [
    "h[:,0]"
   ]
  },
  {
   "cell_type": "code",
   "execution_count": 9,
   "metadata": {},
   "outputs": [
    {
     "data": {
      "text/plain": [
       "<Axes: ylabel='Count'>"
      ]
     },
     "execution_count": 9,
     "metadata": {},
     "output_type": "execute_result"
    },
    {
     "data": {
      "image/png": "[encoded data removed]",
      "text/plain": [
       "<Figure size 640x480 with 1 Axes>"
      ]
     },
     "metadata": {},
     "output_type": "display_data"
    }
   ],
   "source": [
    "sns.histplot(h[:,0])"
   ]
  },
  {
   "cell_type": "code",
   "execution_count": 10,
   "metadata": {},
   "outputs": [
    {
     "data": {
      "text/plain": [
       "[('F19I', -2.4288370609283447, -1.7987771034240723),\n",
       " ('F19L', -2.277543067932129, -1.6434217691421509),\n",
       " ('L6I', -3.009467363357544, -2.1751973628997803),\n",
       " ('wt', -2.751535415649414, -1.9098296165466309),\n",
       " ('T53G', -2.2894558906555176, -1.6731849908828735),\n",
       " ('H26T', -2.4423470497131348, -1.8746898174285889),\n",
       " ('W36K', -1.2598483562469482, -0.9197933673858643),\n",
       " ('P11L', -2.6995484828948975, -1.6656874418258667),\n",
       " ('D32F', -2.7339415550231934, -1.9459102153778076),\n",
       " ('M28Y', -2.483823776245117, -1.807008981704712),\n",
       " ('Q12E', -2.6021528244018555, -1.8574546575546265),\n",
       " ('D23Y', -1.848917841911316, -1.300980806350708),\n",
       " ('N56E', -2.8060150146484375, -1.8921458721160889),\n",
       " ('N56D', -2.556365728378296, -1.7583270072937012),\n",
       " ('R49A', -2.965693712234497, -1.9924302101135254),\n",
       " ('C40P', -0.41380545496940613, 0.09206496924161911),\n",
       " ('Y2D', -2.6021528244018555, -1.9550845623016357),\n",
       " ('D23F', -2.1751973628997803, -1.6070398092269897),\n",
       " ('D10I', -2.666159152984619, -1.8236205577850342),\n",
       " ('G18N', -2.8632586002349854, -2.100996494293213),\n",
       " ('Q43R', -2.666159152984619, -1.7743676900863647),\n",
       " ('P33H', -2.9235832691192627, -2.208385467529297),\n",
       " ('G45V', -0.2696216106414795, 1.1802902221679688),\n",
       " ('N56V', -3.2044126987457275, -2.26574444770813),\n",
       " ('F7Y', -2.7694058418273926, -1.9459102153778076),\n",
       " ('V27G', -0.6722196936607361, -0.39298051595687866),\n",
       " ('D29I', -2.1861624717712402, -1.6959115266799927),\n",
       " ('C40F', -1.9829943180084229, -1.312911868095398),\n",
       " ('K37G', -2.376272678375244, -1.848917841911316),\n",
       " ('D8H', -2.3136348724365234, -1.628762125968933),\n",
       " ('D10N', -2.682732343673706, -1.9098296165466309),\n",
       " ('V55D', -2.6337125301361084, -1.9459102153778076),\n",
       " ('F7P', -2.05051851272583, -1.5299568176269531),\n",
       " ('Q43W', -3.07856822013855, -2.1751973628997803),\n",
       " ('L17R', -0.7081850171089172, 0.9494273662567139),\n",
       " ('W36C', -2.469836473464966, -1.7905933856964111),\n",
       " ('Q4S', -2.415478229522705, -1.7112627029418945),\n",
       " ('R20C', -2.883007049560547, -2.1751973628997803),\n",
       " ('G22W', -3.03202223777771, -2.3383030891418457),\n",
       " ('Q12T', -2.5866894721984863, -1.6360738277435303),\n",
       " ('P11Q', -2.21964693069458, -1.502855658531189),\n",
       " ('V3P', -1.3492072820663452, -1.0355993509292603),\n",
       " ('G45N', -1.6142456531524658, -0.5710265040397644),\n",
       " ('V27Y', -1.900958776473999, -1.4565210342407227),\n",
       " ('T53S', -2.6178250312805176, -1.9367984533309937),\n",
       " ('M46S', -2.1972246170043945, -1.7267793416976929),\n",
       " ('S31I', -2.5866894721984863, -1.8320015668869019),\n",
       " ('C40Y', -1.927748441696167, -1.4114845991134644),\n",
       " ('G18H', -2.9235832691192627, -1.8236205577850342),\n",
       " ('G18T', -3.2591354846954346, -2.415478229522705),\n",
       " ('D32C', -2.787562131881714, -2.001934051513672),\n",
       " ('N56H', -2.716615676879883, -1.7267793416976929),\n",
       " ('Q4L', -3.1026031970977783, -2.363483190536499),\n",
       " ('D32N', -2.7694058418273926, -2.001934051513672),\n",
       " ('E16M', -3.511030673980713, -2.9031107425689697),\n",
       " ('I25D', 0.38882580399513245, 0.6410908699035645),\n",
       " ('Q12H', -2.787562131881714, -1.8660451173782349),\n",
       " ('W36G', -1.7035667896270752, -1.312911868095398),\n",
       " ('H41D', -2.5268092155456543, -2.021151304244995),\n",
       " ('V52S', -1.5163474082946777, -1.0252809524536133),\n",
       " ('T1L', -3.2591354846954346, -2.4423470497131348),\n",
       " ('D23S', -2.1861624717712402, -1.628762125968933),\n",
       " ('T53V', -3.03202223777771, -2.2540581226348877),\n",
       " ('R21A', -2.4423470497131348, -1.807008981704712),\n",
       " ('S31E', -2.5866894721984863, -1.8833898305892944),\n",
       " ('A39Y', -3.2875723838806152, -2.350827693939209),\n",
       " ('Y2N', -2.469836473464966, -1.807008981704712),\n",
       " ('P33S', -2.9235832691192627, -2.1751973628997803),\n",
       " ('W36V', -1.9924302101135254, -1.2598483562469482),\n",
       " ('G45S', -1.2482686042785645, -0.2047119438648224),\n",
       " ('F47Y', -2.0406556129455566, -1.5998685359954834),\n",
       " ('R20L', -2.1972246170043945, -1.502855658531189),\n",
       " ('G22V', -2.0406556129455566, -1.6214861869812012),\n",
       " ('V3D', -1.6731849908828735, -1.367648720741272),\n",
       " ('N34G', -2.8060150146484375, -2.100996494293213),\n",
       " ('V27N', -0.8283219933509827, -0.5451086163520813),\n",
       " ('N34L', -2.8247745037078857, -1.9829943180084229),\n",
       " ('K37R', -3.1523189544677734, -2.415478229522705),\n",
       " ('P54A', -2.716615676879883, -2.0406556129455566),\n",
       " ('R49S', -2.6995484828948975, -1.8833898305892944),\n",
       " ('M46E', -2.111334800720215, -1.557539463043213),\n",
       " ('D14G', -2.6337125301361084, -1.8152899742126465),\n",
       " ('R21K', -2.8060150146484375, -2.030866861343384),\n",
       " ('M46I', -2.883007049560547, -2.1751973628997803),\n",
       " ('R21L', -2.2540581226348877, -1.5715186595916748),\n",
       " ('N34R', -2.7339415550231934, -1.964322566986084),\n",
       " ('D8T', -2.4288370609283447, -1.6582280397415161),\n",
       " ('G38R', 0.9946225881576538, 1.4051510095596313),\n",
       " ('D23N', -1.9367984533309937, -1.3614791631698608),\n",
       " ('N56T', -2.682732343673706, -1.8833898305892944),\n",
       " ('P33T', -2.716615676879883, -1.8574546575546265),\n",
       " ('M46L', -2.6995484828948975, -1.9459102153778076),\n",
       " ('V27L', -2.556365728378296, -1.7190001010894775),\n",
       " ('P54Q', -2.5268092155456543, -1.7503743171691895),\n",
       " ('M28L', -2.944438934326172, -2.277543067932129),\n",
       " ('Q43D', -2.497978687286377, -1.8236205577850342),\n",
       " ('N50F', -3.231428384780884, -2.4022669792175293),\n",
       " ('H26L', -2.9031107425689697, -2.05051851272583),\n",
       " ('R20A', -2.100996494293213, -1.4435254335403442),\n",
       " ('S31T', -2.8438518047332764, -1.9459102153778076),\n",
       " ('H41F', -2.5714287757873535, -1.8236205577850342),\n",
       " ('M28V', -2.9235832691192627, -2.1861624717712402),\n",
       " ('F24I', -2.8247745037078857, -2.05051851272583),\n",
       " ('R49L', -2.8438518047332764, -2.021151304244995),\n",
       " ('V55M', -2.8438518047332764, -2.0907411575317383),\n",
       " ('P48L', -2.060457229614258, -1.3309637308120728),\n",
       " ('H41I', -2.363483190536499, -1.6360738277435303),\n",
       " ('C40R', -1.1581697463989258, -0.7127113342285156),\n",
       " ('G22I', -2.2540581226348877, -1.7987771034240723),\n",
       " ('Y2C', -2.5714287757873535, -1.742465853691101),\n",
       " ('M28R', -2.21964693069458, -1.6582280397415161),\n",
       " ('T44S', -2.541494131088257, -1.8746898174285889),\n",
       " ('R49G', -2.9235832691192627, -2.1428632736206055),\n",
       " ('R21W', -2.666159152984619, -2.0704729557037354),\n",
       " ('Y51I', -2.2540581226348877, -1.564513087272644),\n",
       " ('G45R', -0.9395067095756531, -0.13621023297309875),\n",
       " ('E16G', -2.350827693939209, -1.0721206665039062),\n",
       " ('Y51H', -2.363483190536499, -1.6434217691421509),\n",
       " ('F7S', -2.111334800720215, -1.4435254335403442),\n",
       " ('T44F', -2.751535415649414, -1.9367984533309937),\n",
       " ('F24T', -2.541494131088257, -1.8236205577850342),\n",
       " ('L6H', -1.9829943180084229, -1.4762136936187744),\n",
       " ('D23A', -1.9098296165466309, -1.3069360256195068),\n",
       " ('W36L', -2.1751973628997803, -1.3614791631698608),\n",
       " ('V3T', -2.1643269062042236, -1.5785566568374634),\n",
       " ('H26E', -2.8247745037078857, -2.121757745742798),\n",
       " ('W36F', -2.3136348724365234, -1.7035667896270752),\n",
       " ('G22Q', -2.111334800720215, -1.6882965564727783),\n",
       " ('V3E', -1.7112627029418945, -1.4114845991134644),\n",
       " ('P48Y', -2.277543067932129, -1.6214861869812012),\n",
       " ('F7T', -2.469836473464966, -1.8921458721160889),\n",
       " ('G18I', -3.07856822013855, -2.1428632736206055),\n",
       " ('R49Q', -2.512305736541748, -1.807008981704712),\n",
       " ('N50H', -2.965693712234497, -2.2540581226348877),\n",
       " ('Q12V', -2.556365728378296, -1.7824571132659912),\n",
       " ('D14F', -3.07856822013855, -2.350827693939209),\n",
       " ('D8F', -2.7339415550231934, -1.8921458721160889),\n",
       " ('H26I', -2.682732343673706, -1.9367984533309937),\n",
       " ('Q4T', -2.5866894721984863, -1.9098296165466309),\n",
       " ('D14S', -2.9873640537261963, -2.111334800720215),\n",
       " ('D29E', -2.5866894721984863, -1.9459102153778076),\n",
       " ('N30K', -2.8438518047332764, -2.0907411575317383),\n",
       " ('V3S', -1.9459102153778076, -1.4114845991134644),\n",
       " ('E13N', -2.6498217582702637, -1.8574546575546265),\n",
       " ('M46K', -2.1535496711730957, -1.6434217691421509),\n",
       " ('N30Y', -3.2591354846954346, -2.512305736541748),\n",
       " ('R21P', -2.2310116291046143, -1.5368064641952515),\n",
       " ('D8I', -2.5714287757873535, -1.8574546575546265),\n",
       " ('Y2Q', -2.4022669792175293, -1.8236205577850342),\n",
       " ('V52P', -0.6588410139083862, -0.40130022168159485),\n",
       " ('M28G', -1.6807211637496948, -1.231036901473999),\n",
       " ('G42C', -2.8247745037078857, -1.927748441696167),\n",
       " ('N30T', -2.716615676879883, -1.8833898305892944),\n",
       " ('R49T', -2.787562131881714, -2.030866861343384),\n",
       " ('N50Y', -3.2875723838806152, -2.389199733734131),\n",
       " ('P48Q', -1.8660451173782349, -1.231036901473999),\n",
       " ('F9L', -1.7112627029418945, -0.7491800785064697),\n",
       " ('T44V', -3.178053855895996, -2.363483190536499),\n",
       " ('G18D', -2.26574444770813, -1.5163474082946777),\n",
       " ('A5G', -2.1428632736206055, -1.6360738277435303),\n",
       " ('N34E', -2.6021528244018555, -1.8152899742126465),\n",
       " ('R20P', -1.900958776473999, -1.4178427457809448),\n",
       " ('G18C', -3.442277431488037, -2.415478229522705),\n",
       " ('M28S', -2.483823776245117, -1.9550845623016357),\n",
       " ('G15W', -2.6498217582702637, -1.964322566986084),\n",
       " ('N30D', -2.883007049560547, -2.0704729557037354),\n",
       " ('P48S', -2.1861624717712402, -1.4828323125839233),\n",
       " ('R21H', -2.376272678375244, -1.742465853691101),\n",
       " ('E16V', -2.556365728378296, -1.7112627029418945),\n",
       " ('H26A', -2.5866894721984863, -1.8574546575546265),\n",
       " ('L17M', -2.376272678375244, -1.6434217691421509),\n",
       " ('H26R', -2.8632586002349854, -2.0805671215057373),\n",
       " ('G15Q', -2.5866894721984863, -1.8574546575546265),\n",
       " ('E13A', -2.8632586002349854, -2.05051851272583),\n",
       " ('G42W', -2.389199733734131, -1.807008981704712),\n",
       " ('T1G', -2.376272678375244, -1.807008981704712),\n",
       " ('N56Y', -2.6498217582702637, -1.7905933856964111),\n",
       " ('N50S', -2.716615676879883, -1.9829943180084229),\n",
       " ('G42D', -2.363483190536499, -1.7346010208129883),\n",
       " ('Q43L', -2.9873640537261963, -2.121757745742798),\n",
       " ('R20S', -2.1535496711730957, -1.5299568176269531),\n",
       " ('R49C', -3.009467363357544, -2.111334800720215),\n",
       " ('N50E', -2.965693712234497, -2.0805671215057373),\n",
       " ('R21M', -2.469836473464966, -1.8660451173782349),\n",
       " ('T1V', -2.8060150146484375, -2.060457229614258),\n",
       " ('F24V', -2.6178250312805176, -1.927748441696167),\n",
       " ('H41N', -2.8632586002349854, -2.060457229614258),\n",
       " ('W36S', -1.7190001010894775, -1.141745686531067),\n",
       " ('M28E', -2.1643269062042236, -1.5715186595916748),\n",
       " ('N50M', -2.944438934326172, -2.111334800720215),\n",
       " ('H26D', -2.1428632736206055, -1.5505974292755127),\n",
       " ('Q4M', -3.1523189544677734, -2.363483190536499),\n",
       " ('M46T', -2.541494131088257, -1.9098296165466309),\n",
       " ('T1M', -2.8247745037078857, -2.05051851272583),\n",
       " ('I25L', -2.21964693069458, -1.6434217691421509),\n",
       " ('F9I', -1.6807211637496948, -0.7127113342285156),\n",
       " ('N50D', -2.8060150146484375, -1.9098296165466309),\n",
       " ('G15V', -2.716615676879883, -1.8921458721160889),\n",
       " ('D10G', -2.1751973628997803, -1.2656663656234741),\n",
       " ('T1K', -2.2894558906555176, -1.6882965564727783),\n",
       " ('E16D', -2.030866861343384, -0.7036656737327576),\n",
       " ('W35C', -2.1428632736206055, -1.5715186595916748),\n",
       " ('H26N', -2.350827693939209, -1.7583270072937012),\n",
       " ('P11H', -2.1428632736206055, -1.3492072820663452),\n",
       " ('Y2I', -2.666159152984619, -1.8746898174285889),\n",
       " ('S31Y', -2.787562131881714, -2.060457229614258),\n",
       " ('R21G', -2.2894558906555176, -1.7743676900863647),\n",
       " ('P54R', -3.178053855895996, -2.415478229522705),\n",
       " ('H41K', -2.497978687286377, -1.7583270072937012),\n",
       " ('P54N', -2.965693712234497, -2.1861624717712402),\n",
       " ('D29A', -2.389199733734131, -1.8236205577850342),\n",
       " ('D10E', -2.9873640537261963, -2.1643269062042236),\n",
       " ('E16K', -2.4022669792175293, -1.3370232582092285),\n",
       " ('H41G', -2.415478229522705, -1.7503743171691895),\n",
       " ('Q4P', -2.0907411575317383, -1.6731849908828735),\n",
       " ('V3N', -1.927748441696167, -1.3370232582092285),\n",
       " ('H41Y', -2.8632586002349854, -2.1322665214538574),\n",
       " ('P54I', -3.2044126987457275, -2.512305736541748),\n",
       " ('Q12Y', -2.8632586002349854, -2.021151304244995),\n",
       " ('V27I', -2.751535415649414, -1.9187592267990112),\n",
       " ('R49H', -2.666159152984619, -2.0406556129455566),\n",
       " ('D32G', -2.350827693939209, -1.7112627029418945),\n",
       " ('T1N', -2.556365728378296, -1.7905933856964111),\n",
       " ('Q12N', -2.483823776245117, -1.6656874418258667),\n",
       " ('D23P', -0.9345624446868896, -0.6677536964416504),\n",
       " ('N50V', -3.178053855895996, -2.2540581226348877),\n",
       " ('N50Q', -2.9873640537261963, -2.26574444770813),\n",
       " ('C40L', -2.9235832691192627, -2.1861624717712402),\n",
       " ('R49F', -2.9235832691192627, -2.0704729557037354),\n",
       " ('C40N', -1.8152899742126465, -1.3069360256195068),\n",
       " ('N50K', -3.127178192138672, -2.389199733734131),\n",
       " ('D8G', -2.0805671215057373, -1.509587049484253),\n",
       " ('P33I', -2.682732343673706, -1.8921458721160889),\n",
       " ('D32A', -2.497978687286377, -1.7905933856964111),\n",
       " ('P54Y', -3.442277431488037, -2.751535415649414),\n",
       " ('N56G', -2.8060150146484375, -2.0406556129455566),\n",
       " ('Q12R', -3.03202223777771, -2.1972246170043945),\n",
       " ('C40S', -2.1751973628997803, -1.6582280397415161),\n",
       " ('Y51N', -2.111334800720215, -1.6142456531524658),\n",
       " ('T44Y', -2.7694058418273926, -1.9550845623016357),\n",
       " ('P11S', -2.4022669792175293, -1.6214861869812012),\n",
       " ('H26C', -3.055048942565918, -2.26574444770813),\n",
       " ('F24W', -2.556365728378296, -1.9187592267990112),\n",
       " ('P11F', -2.512305736541748, -1.7035667896270752),\n",
       " ('T53N', -2.483823776245117, -1.848917841911316),\n",
       " ('A5D', 0.03200271725654602, 0.29410168528556824),\n",
       " ('D14L', -2.682732343673706, -1.7112627029418945),\n",
       " ('P33L', -2.8247745037078857, -2.021151304244995),\n",
       " ('G38V', -0.4810678958892822, 0.2900158166885376),\n",
       " ('S31Q', -2.9031107425689697, -2.0704729557037354),\n",
       " ('M46R', -2.497978687286377, -1.9367984533309937),\n",
       " ('T1I', -2.8438518047332764, -2.0805671215057373),\n",
       " ('K37Q', -2.5866894721984863, -1.8746898174285889),\n",
       " ('Q43N', -2.6021528244018555, -1.9098296165466309),\n",
       " ('K37D', -1.900958776473999, -1.489478588104248),\n",
       " ('V52I', -2.541494131088257, -1.9550845623016357),\n",
       " ('P54D', -2.6337125301361084, -1.848917841911316),\n",
       " ('Y2K', -2.121757745742798, -1.59273099899292),\n",
       " ('D29S', -2.751535415649414, -2.021151304244995),\n",
       " ('G45E', -0.9494273662567139, -0.14827105402946472),\n",
       " ('L17I', -2.7694058418273926, -1.9367984533309937),\n",
       " ('T53K', -2.9235832691192627, -2.05051851272583),\n",
       " ('H26S', -2.497978687286377, -1.8746898174285889),\n",
       " ('T44N', -2.2540581226348877, -1.6508064270019531),\n",
       " ('A5P', -0.8001192808151245, -0.5193681716918945),\n",
       " ('R20T', -2.277543067932129, -1.5856271982192993),\n",
       " ('V52G', -1.169197916984558, -0.7537717819213867),\n",
       " ('S31K', -2.787562131881714, -2.001934051513672),\n",
       " ('Y51F', -3.009467363357544, -2.1428632736206055),\n",
       " ('T1P', -2.8060150146484375, -2.0406556129455566),\n",
       " ('L6Y', -2.682732343673706, -2.121757745742798),\n",
       " ('F7C', -2.6021528244018555, -1.8660451173782349),\n",
       " ('V3G', -1.6582280397415161, -1.1146769523620605),\n",
       " ('M46V', -2.751535415649414, -2.1751973628997803)]"
      ]
     },
     "execution_count": 10,
     "metadata": {},
     "output_type": "execute_result"
    }
   ],
   "source": [
    "records"
   ]
  },
  {
   "cell_type": "code",
   "execution_count": 11,
   "metadata": {},
   "outputs": [],
   "source": [
    "bioemu_non_ft_predictions = pd.DataFrame.from_records(records, columns=['id', 'dg_folding_est', 'dg_binding_est'])\n",
    "\n",
    "# Adjust to ddgs. What we're estimating here is really something like a dg from \"bindable\" to nonbindable\n",
    "# which can be viewed as a ddg of binding\n",
    "#wt_est = bioemu_non_ft_predictions.loc[bioemu_non_ft_predictions['id'] == 'wt', 'dg_binding_est'].item()\n",
    "#bioemu_non_ft_predictions['ddg_binding_est'] -= wt_est\n",
    "# for purposes of h* it's easier just to stick with dg"
   ]
  },
  {
   "cell_type": "code",
   "execution_count": null,
   "metadata": {},
   "outputs": [],
   "source": []
  },
  {
   "cell_type": "code",
   "execution_count": 12,
   "metadata": {},
   "outputs": [
    {
     "data": {
      "text/plain": [
       "<seaborn.axisgrid.FacetGrid at 0x7f8de17b5040>"
      ]
     },
     "execution_count": 12,
     "metadata": {},
     "output_type": "execute_result"
    },
    {
     "data": {
      "image/png": "[encoded data removed]",
      "text/plain": [
       "<Figure size 654.75x500 with 1 Axes>"
      ]
     },
     "metadata": {},
     "output_type": "display_data"
    }
   ],
   "source": [
    "sns.displot(bioemu_non_ft_predictions)"
   ]
  },
  {
   "cell_type": "markdown",
   "metadata": {},
   "source": [
    "# Compare to ground truth"
   ]
  },
  {
   "cell_type": "code",
   "execution_count": 13,
   "metadata": {},
   "outputs": [],
   "source": [
    "gt_data = pd.read_csv('reference_h/GRB2_SH3_high_confidence.csv')\n",
    "gt_data.loc[gt_data.id == '-0-', 'id'] = 'wt' # rename wt row"
   ]
  },
  {
   "cell_type": "code",
   "execution_count": 14,
   "metadata": {},
   "outputs": [],
   "source": [
    "combined_df = gt_data.merge(bioemu_non_ft_predictions)"
   ]
  },
  {
   "cell_type": "code",
   "execution_count": 15,
   "metadata": {},
   "outputs": [
    {
     "data": {
      "text/plain": [
       "Index(['Pos_ref', 'id', 'id_ref', 'Pos', 'mut_order', 'f_dg_pred',\n",
       "       'f_ddg_pred', 'f_ddg_pred_sd', 'b_dg_pred', 'b_ddg_pred',\n",
       "       'b_ddg_pred_sd', 'f_ddg_pred_conf', 'b_ddg_pred_conf', 'HAmin_ligand',\n",
       "       'scHAmin_ligand', 'RSASA', 'SS', 'Pos_class', 'protein', 'WT_AA', 'Mut',\n",
       "       'b_ddg_wposmeanabs', 'b_ddg_wposse', 'allosteric', 'orthosteric',\n",
       "       'allosteric_mutation', 'seq', 'dg_folding_est', 'dg_binding_est'],\n",
       "      dtype='object')"
      ]
     },
     "execution_count": 15,
     "metadata": {},
     "output_type": "execute_result"
    }
   ],
   "source": [
    "combined_df.columns"
   ]
  },
  {
   "cell_type": "code",
   "execution_count": 16,
   "metadata": {},
   "outputs": [
    {
     "data": {
      "text/html": [
       "<div>\n",
       "<style scoped>\n",
       "    .dataframe tbody tr th:only-of-type {\n",
       "        vertical-align: middle;\n",
       "    }\n",
       "\n",
       "    .dataframe tbody tr th {\n",
       "        vertical-align: top;\n",
       "    }\n",
       "\n",
       "    .dataframe thead th {\n",
       "        text-align: right;\n",
       "    }\n",
       "</style>\n",
       "<table border=\"1\" class=\"dataframe\">\n",
       "  <thead>\n",
       "    <tr style=\"text-align: right;\">\n",
       "      <th></th>\n",
       "      <th>Pos_ref</th>\n",
       "      <th>id</th>\n",
       "      <th>id_ref</th>\n",
       "      <th>Pos</th>\n",
       "      <th>mut_order</th>\n",
       "      <th>f_dg_pred</th>\n",
       "      <th>f_ddg_pred</th>\n",
       "      <th>f_ddg_pred_sd</th>\n",
       "      <th>b_dg_pred</th>\n",
       "      <th>b_ddg_pred</th>\n",
       "      <th>...</th>\n",
       "      <th>WT_AA</th>\n",
       "      <th>Mut</th>\n",
       "      <th>b_ddg_wposmeanabs</th>\n",
       "      <th>b_ddg_wposse</th>\n",
       "      <th>allosteric</th>\n",
       "      <th>orthosteric</th>\n",
       "      <th>allosteric_mutation</th>\n",
       "      <th>seq</th>\n",
       "      <th>dg_folding_est</th>\n",
       "      <th>dg_binding_est</th>\n",
       "    </tr>\n",
       "  </thead>\n",
       "  <tbody>\n",
       "    <tr>\n",
       "      <th>146</th>\n",
       "      <td>NaN</td>\n",
       "      <td>wt</td>\n",
       "      <td>-0-</td>\n",
       "      <td>NaN</td>\n",
       "      <td>0</td>\n",
       "      <td>-0.831471</td>\n",
       "      <td>0.0</td>\n",
       "      <td>0.0</td>\n",
       "      <td>-1.044962</td>\n",
       "      <td>0.0</td>\n",
       "      <td>...</td>\n",
       "      <td>NaN</td>\n",
       "      <td>NaN</td>\n",
       "      <td>0.0</td>\n",
       "      <td>0.0</td>\n",
       "      <td>NaN</td>\n",
       "      <td>NaN</td>\n",
       "      <td>NaN</td>\n",
       "      <td>TYVQALFDFDPQEDGELGFRRGDFIHVMDNSDPNWWKGACHGQTGM...</td>\n",
       "      <td>-2.751535</td>\n",
       "      <td>-1.90983</td>\n",
       "    </tr>\n",
       "  </tbody>\n",
       "</table>\n",
       "<p>1 rows × 29 columns</p>\n",
       "</div>"
      ],
      "text/plain": [
       "     Pos_ref  id id_ref  Pos  mut_order  f_dg_pred  f_ddg_pred  f_ddg_pred_sd  \\\n",
       "146      NaN  wt    -0-  NaN          0  -0.831471         0.0            0.0   \n",
       "\n",
       "     b_dg_pred  b_ddg_pred  ...  WT_AA  Mut  b_ddg_wposmeanabs  b_ddg_wposse  \\\n",
       "146  -1.044962         0.0  ...    NaN  NaN                0.0           0.0   \n",
       "\n",
       "     allosteric  orthosteric allosteric_mutation  \\\n",
       "146         NaN          NaN                 NaN   \n",
       "\n",
       "                                                   seq dg_folding_est  \\\n",
       "146  TYVQALFDFDPQEDGELGFRRGDFIHVMDNSDPNWWKGACHGQTGM...      -2.751535   \n",
       "\n",
       "    dg_binding_est  \n",
       "146       -1.90983  \n",
       "\n",
       "[1 rows x 29 columns]"
      ]
     },
     "execution_count": 16,
     "metadata": {},
     "output_type": "execute_result"
    }
   ],
   "source": [
    "combined_df.loc[combined_df.id=='wt']"
   ]
  },
  {
   "cell_type": "code",
   "execution_count": 17,
   "metadata": {},
   "outputs": [
    {
     "data": {
      "text/plain": [
       "Text(0.5, 1.0, 'binding ddg change')"
      ]
     },
     "execution_count": 17,
     "metadata": {},
     "output_type": "execute_result"
    },
    {
     "data": {
      "image/png": "[encoded data removed]",
      "text/plain": [
       "<Figure size 500x500 with 1 Axes>"
      ]
     },
     "metadata": {},
     "output_type": "display_data"
    }
   ],
   "source": [
    "sns.relplot(combined_df, x='f_dg_pred', y='dg_folding_est')\n",
    "plt.title('binding ddg change')"
   ]
  },
  {
   "cell_type": "code",
   "execution_count": 18,
   "metadata": {},
   "outputs": [
    {
     "data": {
      "text/plain": [
       "SignificanceResult(statistic=0.5939306192485225, pvalue=1.176295409497477e-26)"
      ]
     },
     "execution_count": 18,
     "metadata": {},
     "output_type": "execute_result"
    }
   ],
   "source": [
    "scipy.stats.spearmanr(combined_df.f_dg_pred, combined_df.dg_folding_est)"
   ]
  },
  {
   "cell_type": "code",
   "execution_count": 19,
   "metadata": {},
   "outputs": [
    {
     "data": {
      "text/plain": [
       "Text(0.5, 1.0, 'binding ddg change')"
      ]
     },
     "execution_count": 19,
     "metadata": {},
     "output_type": "execute_result"
    },
    {
     "data": {
      "image/png": "[encoded data removed]",
      "text/plain": [
       "<Figure size 500x500 with 1 Axes>"
      ]
     },
     "metadata": {},
     "output_type": "display_data"
    }
   ],
   "source": [
    "sns.relplot(combined_df, x='b_dg_pred', y='dg_binding_est')\n",
    "plt.title('binding ddg change')"
   ]
  },
  {
   "cell_type": "code",
   "execution_count": 20,
   "metadata": {},
   "outputs": [
    {
     "data": {
      "text/plain": [
       "SignificanceResult(statistic=0.012735596238331193, pvalue=0.8365184621130809)"
      ]
     },
     "execution_count": 20,
     "metadata": {},
     "output_type": "execute_result"
    }
   ],
   "source": [
    "scipy.stats.spearmanr(combined_df.b_ddg_pred, combined_df.dg_binding_est)"
   ]
  },
  {
   "cell_type": "markdown",
   "metadata": {},
   "source": [
    "# test h_star code"
   ]
  },
  {
   "cell_type": "code",
   "execution_count": 21,
   "metadata": {},
   "outputs": [
    {
     "data": {
      "text/plain": [
       "(0      TYVQALFDFDPQEDGELGFRRGDFIHVMDNSDPNWWKGACHGQTHM...\n",
       " 1      TYVQALFDCDPQEDGELGFRRGDFIHVMDNSDPNWWKGACHGQTGM...\n",
       " 2      TYVQALFDVDPQEDGELGFRRGDFIHVMDNSDPNWWKGACHGQTGM...\n",
       " 3      TYVQALIDFDPQEDGELGFRRGDFIHVMDNSDPNWWKGACHGQTGM...\n",
       " 4      TYVQALFDFDPQEDGELGFRRGDFIHVMDNSDPNRWKGACHGQTGM...\n",
       "                              ...                        \n",
       " 584    TYVQALFCFDPQEDGELGFRRGDFIHVMDNSDPNWWKGACHGQTGM...\n",
       " 585    TYVQALFDFDPQEDGELGFRRGYFIHVMDNSDPNWWKGACHGQTGM...\n",
       " 586    TYVQALFDFDPQEDGELGFRRGDFIHVMDNSDPNWWKGACHGQTGM...\n",
       " 587    TYVQALFDFDPQEDGELGFRRGDFIHVMDNSDPNWWDGACHGQTGM...\n",
       " 588    TYVNALFDFDPQEDGELGFRRGDFIHVMDNSDPNWWKGACHGQTGM...\n",
       " Name: seq, Length: 589, dtype: object,\n",
       " tensor([[0.1976, 0.0045],\n",
       "         [0.5153, 0.1624],\n",
       "         [0.5799, 0.1986],\n",
       "         ...,\n",
       "         [0.7065, 0.9182],\n",
       "         [0.2275, 0.9187],\n",
       "         [0.2778, 0.9362]]))"
      ]
     },
     "execution_count": 21,
     "metadata": {},
     "output_type": "execute_result"
    }
   ],
   "source": [
    "observables.h_star_for_grb2_sh3('reference_h/GRB2_SH3_high_confidence.csv')"
   ]
  },
  {
   "cell_type": "code",
   "execution_count": null,
   "metadata": {},
   "outputs": [],
   "source": []
  }
 ],
 "metadata": {
  "kernelspec": {
   "display_name": "Python 3",
   "language": "python",
   "name": "python3"
  },
  "language_info": {
   "codemirror_mode": {
    "name": "ipython",
    "version": 3
   },
   "file_extension": ".py",
   "mimetype": "text/x-python",
   "name": "python",
   "nbconvert_exporter": "python",
   "pygments_lexer": "ipython3",
   "version": "3.12.10"
  }
 },
 "nbformat": 4,
 "nbformat_minor": 2
}
